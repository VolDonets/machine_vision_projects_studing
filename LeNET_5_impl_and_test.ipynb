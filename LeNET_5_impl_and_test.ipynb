{
 "cells": [
  {
   "cell_type": "markdown",
   "id": "c14c5ca8-55f8-46ee-aad1-fb8d5b746d04",
   "metadata": {
    "pycharm": {
     "name": "#%% md\n"
    }
   },
   "source": [
    "## Import the dependencies"
   ]
  },
  {
   "cell_type": "code",
   "execution_count": 1,
   "id": "0663d3d6-5536-4b42-bf34-c7bae01c0eaf",
   "metadata": {
    "pycharm": {
     "name": "#%%\n"
    }
   },
   "outputs": [],
   "source": [
    "import keras\n",
    "\n",
    "from keras.datasets import mnist\n",
    "from keras.preprocessing.image import ImageDataGenerator\n",
    "from keras.models import Sequential\n",
    "from keras.utils import np_utils\n",
    "from keras.layers import Dense, Activation, Flatten, Dropout, Conv2D, AveragePooling2D, MaxPooling2D, BatchNormalization\n",
    "from keras.callbacks import ModelCheckpoint\n",
    "from keras import regularizers, optimizers\n",
    "\n",
    "import numpy as np\n",
    "from matplotlib import pyplot"
   ]
  },
  {
   "cell_type": "markdown",
   "id": "b899dc3b-7886-4294-b8c2-469a9c61fe87",
   "metadata": {
    "pycharm": {
     "name": "#%% md\n"
    }
   },
   "source": [
    "## Create the model"
   ]
  },
  {
   "cell_type": "code",
   "execution_count": 21,
   "id": "a76b3680-54d4-4b7b-a1b0-fa20e5067060",
   "metadata": {
    "pycharm": {
     "name": "#%%\n"
    }
   },
   "outputs": [],
   "source": [
    "def get_model():\n",
    "    md = Sequential()\n",
    "    \n",
    "    # input 1_28x28 or 1_32x32\n",
    "    # CONV_1 6_28x28 f(5x5) ?\n",
    "    md.add(Conv2D(filters=6, kernel_size=5, strides=1,\n",
    "                  padding='same', input_shape=(28, 28, 1),\n",
    "                  activation='tanh'))\n",
    "    \n",
    "    # AVG_POOL_2 2x2 6_14x14\n",
    "    md.add(AveragePooling2D(pool_size=(2, 2)))\n",
    "    \n",
    "    \n",
    "    # CONV_3 16_10x10 f(5x5)\n",
    "    md.add(Conv2D(filters=16, kernel_size=5, strides=1,\n",
    "                  padding='valid', activation='tanh'))\n",
    "    \n",
    "    # AVG_POOL_4 2x2 16_5x5\n",
    "    md.add(AveragePooling2D(pool_size=(2, 2)))\n",
    "    \n",
    "    # CONV_5 120_5x5 f(5x5)\n",
    "    md.add(Conv2D(120, kernel_size=5, strides=1,\n",
    "                 padding='valid', activation='tanh'))\n",
    "    md.add(Activation('tanh'))\n",
    "    \n",
    "    # FLATTEN\n",
    "    md.add(Flatten())\n",
    "    \n",
    "    # FC_6 84\n",
    "    md.add(Dense(84, activation='tanh'))\n",
    "    \n",
    "    # FC_7 10\n",
    "    md.add(Dense(10, activation='softmax'))\n",
    "    \n",
    "    return md"
   ]
  },
  {
   "cell_type": "code",
   "execution_count": 22,
   "id": "59894a5a-af38-4059-b80a-387c6468f9a3",
   "metadata": {
    "pycharm": {
     "name": "#%%\n"
    }
   },
   "outputs": [],
   "source": [
    "model = get_model()"
   ]
  },
  {
   "cell_type": "code",
   "execution_count": 23,
   "id": "19591ed3-8b3f-4643-83ea-ec0ccd94b347",
   "metadata": {
    "pycharm": {
     "name": "#%%\n"
    }
   },
   "outputs": [
    {
     "name": "stdout",
     "output_type": "stream",
     "text": [
      "Model: \"sequential_2\"\n",
      "_________________________________________________________________\n",
      "Layer (type)                 Output Shape              Param #   \n",
      "=================================================================\n",
      "conv2d_6 (Conv2D)            (None, 28, 28, 6)         156       \n",
      "_________________________________________________________________\n",
      "average_pooling2d_4 (Average (None, 14, 14, 6)         0         \n",
      "_________________________________________________________________\n",
      "conv2d_7 (Conv2D)            (None, 10, 10, 16)        2416      \n",
      "_________________________________________________________________\n",
      "average_pooling2d_5 (Average (None, 5, 5, 16)          0         \n",
      "_________________________________________________________________\n",
      "conv2d_8 (Conv2D)            (None, 1, 1, 120)         48120     \n",
      "_________________________________________________________________\n",
      "activation_5 (Activation)    (None, 1, 1, 120)         0         \n",
      "_________________________________________________________________\n",
      "flatten_2 (Flatten)          (None, 120)               0         \n",
      "_________________________________________________________________\n",
      "dense_4 (Dense)              (None, 84)                10164     \n",
      "_________________________________________________________________\n",
      "dense_5 (Dense)              (None, 10)                850       \n",
      "=================================================================\n",
      "Total params: 61,706\n",
      "Trainable params: 61,706\n",
      "Non-trainable params: 0\n",
      "_________________________________________________________________\n"
     ]
    }
   ],
   "source": [
    "model.summary()"
   ]
  },
  {
   "cell_type": "markdown",
   "id": "571e0826-ff6c-4a7b-a954-3dde7c2bd914",
   "metadata": {
    "pycharm": {
     "name": "#%% md\n"
    }
   },
   "source": [
    "## Prepare data from cifar_10:"
   ]
  },
  {
   "cell_type": "code",
   "execution_count": 35,
   "id": "f499687e-8462-4048-98af-81e7592cb570",
   "metadata": {
    "pycharm": {
     "name": "#%%\n"
    }
   },
   "outputs": [],
   "source": [
    "(x_train, y_train), (x_test, y_test) = mnist.load_data()"
   ]
  },
  {
   "cell_type": "code",
   "execution_count": 36,
   "id": "5cfe5bca-a218-4eb3-9274-1e949a22ffae",
   "metadata": {
    "pycharm": {
     "name": "#%%\n"
    }
   },
   "outputs": [
    {
     "data": {
      "text/plain": [
       "(60000, 28, 28)"
      ]
     },
     "execution_count": 36,
     "metadata": {},
     "output_type": "execute_result"
    }
   ],
   "source": [
    "x_train.shape"
   ]
  },
  {
   "cell_type": "code",
   "execution_count": 37,
   "id": "e023fc1c-40f6-4dc4-bc26-c822c96e8167",
   "metadata": {
    "pycharm": {
     "name": "#%%\n"
    }
   },
   "outputs": [
    {
     "data": {
      "text/plain": [
       "(10000, 28, 28)"
      ]
     },
     "execution_count": 37,
     "metadata": {},
     "output_type": "execute_result"
    }
   ],
   "source": [
    "x_test.shape"
   ]
  },
  {
   "cell_type": "markdown",
   "id": "06ce67ef-913e-408d-a8ff-3473efc1deaa",
   "metadata": {
    "pycharm": {
     "name": "#%% md\n"
    }
   },
   "source": [
    "## Visualize the first six training images:"
   ]
  },
  {
   "cell_type": "code",
   "execution_count": 39,
   "id": "b635eb1a-0647-45a7-a00d-d3c234f32e1d",
   "metadata": {
    "pycharm": {
     "name": "#%%\n"
    }
   },
   "outputs": [
    {
     "data": {
      "image/png": "[encoded data removed]",
      "text/plain": [
       "<Figure size 1440x1440 with 6 Axes>"
      ]
     },
     "metadata": {},
     "output_type": "display_data"
    }
   ],
   "source": [
    "import matplotlib.pyplot as plt\n",
    "%matplotlib inline\n",
    "import matplotlib.cm as cm\n",
    "\n",
    "# plot first 6 training images:\n",
    "fig = plt.figure(figsize=(20,20))\n",
    "for i in range(6):\n",
    "    ax = fig.add_subplot(1, 6, i+1, xticks=[], yticks=[])\n",
    "    ax.imshow(x_train[i], cmap='gray')\n",
    "    ax.set_title(str(y_train[i]))"
   ]
  },
  {
   "cell_type": "code",
   "execution_count": 41,
   "id": "2603dd77-328e-464f-8779-5785084e74a1",
   "metadata": {
    "pycharm": {
     "name": "#%%\n"
    }
   },
   "outputs": [
    {
     "data": {
      "image/png": "[encoded data removed]",
      "text/plain": [
       "<Figure size 864x864 with 1 Axes>"
      ]
     },
     "metadata": {
      "needs_background": "light"
     },
     "output_type": "display_data"
    }
   ],
   "source": [
    "def visualize_input(img, ax):\n",
    "    ax.imshow(img, cmap='gray')\n",
    "    width, height = img.shape\n",
    "    thresh = img.max()/2.5\n",
    "    for x in range(width):\n",
    "        for y in range(height):\n",
    "            ax.annotate(str(round(img[x][y],2)), xy=(y,x),\n",
    "                        horizontalalignment='center',\n",
    "                        verticalalignment='center',\n",
    "                        color='white' if img[x][y]<thresh else 'black')\n",
    "\n",
    "fig = plt.figure(figsize = (12,12)) \n",
    "ax = fig.add_subplot(111)\n",
    "visualize_input(x_train[0], ax)"
   ]
  },
  {
   "cell_type": "code",
   "execution_count": 42,
   "id": "1f30323f-5f76-4570-8fd2-4e6e513d952e",
   "metadata": {
    "pycharm": {
     "name": "#%%\n"
    }
   },
   "outputs": [],
   "source": [
    "# normalize the data to accelerate learning:\n",
    "mean = np.mean(x_train)\n",
    "std = np.std(x_train)\n",
    "x_train = (x_train-mean) / (std+1e-7)\n",
    "x_test = (x_test-mean) / (std+1e-7)\n",
    "\n",
    "x_train = x_train.astype('float32') / 255.0\n",
    "x_test = x_test.astype('float32') / 255.0"
   ]
  },
  {
   "cell_type": "code",
   "execution_count": 43,
   "id": "280a95e8-0cf2-45d0-9bcd-d50a662a2f49",
   "metadata": {
    "pycharm": {
     "name": "#%%\n"
    }
   },
   "outputs": [],
   "source": [
    "# one-hot encoding\n",
    "\n",
    "num_classes = 10\n",
    "\n",
    "y_train = np_utils.to_categorical(y_train, num_classes)\n",
    "y_test = np_utils.to_categorical(y_test, num_classes)"
   ]
  },
  {
   "cell_type": "code",
   "execution_count": 44,
   "id": "b9bb8784-65c9-4943-bcf6-4a39e5cc711b",
   "metadata": {
    "pycharm": {
     "name": "#%%\n"
    }
   },
   "outputs": [],
   "source": [
    "# reshape data to fit our CNN (and input_shape):\n",
    "\n",
    "img_rows, img_cols = 28, 28\n",
    "\n",
    "x_train = x_train.reshape(x_train.shape[0], img_rows, img_cols, 1)\n",
    "x_test = x_test.reshape(x_test.shape[0], img_rows, img_cols, 1)"
   ]
  },
  {
   "cell_type": "code",
   "execution_count": 45,
   "id": "6041e8cb-e3ad-42fb-8d11-afa96a63e1ba",
   "metadata": {
    "pycharm": {
     "name": "#%%\n"
    }
   },
   "outputs": [],
   "source": [
    "(x_train, x_valid) = x_train[5000:], x_train[:5000]\n",
    "(y_train, y_valid) = y_train[5000:], y_train[:5000]"
   ]
  },
  {
   "cell_type": "code",
   "execution_count": 46,
   "id": "718d46a9-e35f-4bb6-89fc-7a647da273f9",
   "metadata": {
    "pycharm": {
     "name": "#%%\n"
    }
   },
   "outputs": [
    {
     "data": {
      "text/plain": [
       "(55000, 28, 28, 1)"
      ]
     },
     "execution_count": 46,
     "metadata": {},
     "output_type": "execute_result"
    }
   ],
   "source": [
    "x_train.shape"
   ]
  },
  {
   "cell_type": "code",
   "execution_count": 47,
   "id": "fcf9ff03-856c-4522-a8d6-f1202936c10a",
   "metadata": {
    "pycharm": {
     "name": "#%%\n"
    }
   },
   "outputs": [
    {
     "data": {
      "text/plain": [
       "(5000, 28, 28, 1)"
      ]
     },
     "execution_count": 47,
     "metadata": {},
     "output_type": "execute_result"
    }
   ],
   "source": [
    "x_valid.shape"
   ]
  },
  {
   "cell_type": "markdown",
   "id": "b2680ab8-6b22-47be-8a6d-03ca3971f603",
   "metadata": {
    "pycharm": {
     "name": "#%% md\n"
    }
   },
   "source": [
    "## Train the model"
   ]
  },
  {
   "cell_type": "code",
   "execution_count": 48,
   "id": "476c95e4-ce84-4e86-9bef-3a042eaacef9",
   "metadata": {
    "pycharm": {
     "name": "#%%\n"
    }
   },
   "outputs": [],
   "source": [
    "model.compile(loss='categorical_crossentropy',\n",
    "              optimizer='adamax',\n",
    "              metrics=['accuracy'])"
   ]
  },
  {
   "cell_type": "code",
   "execution_count": 49,
   "id": "f84d2165-0edb-4654-b8a9-7f9c393bf9e7",
   "metadata": {
    "pycharm": {
     "name": "#%%\n"
    }
   },
   "outputs": [
    {
     "name": "stdout",
     "output_type": "stream",
     "text": [
      "Epoch 1/100\n",
      "430/430 - 4s - loss: 0.9448 - accuracy: 0.7091 - val_loss: 0.4181 - val_accuracy: 0.8718\n",
      "Epoch 2/100\n",
      "430/430 - 2s - loss: 0.3855 - accuracy: 0.8836 - val_loss: 0.3188 - val_accuracy: 0.8982\n",
      "Epoch 3/100\n",
      "430/430 - 2s - loss: 0.3136 - accuracy: 0.9042 - val_loss: 0.2634 - val_accuracy: 0.9208\n",
      "Epoch 4/100\n",
      "430/430 - 2s - loss: 0.2659 - accuracy: 0.9182 - val_loss: 0.2219 - val_accuracy: 0.9324\n",
      "Epoch 5/100\n",
      "430/430 - 2s - loss: 0.2304 - accuracy: 0.9285 - val_loss: 0.1966 - val_accuracy: 0.9396\n",
      "Epoch 6/100\n",
      "430/430 - 2s - loss: 0.2024 - accuracy: 0.9375 - val_loss: 0.1724 - val_accuracy: 0.9462\n",
      "Epoch 7/100\n",
      "430/430 - 2s - loss: 0.1807 - accuracy: 0.9437 - val_loss: 0.1567 - val_accuracy: 0.9536\n",
      "Epoch 8/100\n",
      "430/430 - 2s - loss: 0.1639 - accuracy: 0.9488 - val_loss: 0.1424 - val_accuracy: 0.9546\n",
      "Epoch 9/100\n",
      "430/430 - 2s - loss: 0.1501 - accuracy: 0.9538 - val_loss: 0.1332 - val_accuracy: 0.9582\n",
      "Epoch 10/100\n",
      "430/430 - 2s - loss: 0.1386 - accuracy: 0.9569 - val_loss: 0.1257 - val_accuracy: 0.9616\n",
      "Epoch 11/100\n",
      "430/430 - 1s - loss: 0.1288 - accuracy: 0.9602 - val_loss: 0.1175 - val_accuracy: 0.9640\n",
      "Epoch 12/100\n",
      "430/430 - 2s - loss: 0.1217 - accuracy: 0.9621 - val_loss: 0.1126 - val_accuracy: 0.9652\n",
      "Epoch 13/100\n",
      "430/430 - 2s - loss: 0.1139 - accuracy: 0.9648 - val_loss: 0.1088 - val_accuracy: 0.9674\n",
      "Epoch 14/100\n",
      "430/430 - 2s - loss: 0.1077 - accuracy: 0.9669 - val_loss: 0.1017 - val_accuracy: 0.9704\n",
      "Epoch 15/100\n",
      "430/430 - 2s - loss: 0.1012 - accuracy: 0.9687 - val_loss: 0.0993 - val_accuracy: 0.9692\n",
      "Epoch 16/100\n",
      "430/430 - 2s - loss: 0.0966 - accuracy: 0.9696 - val_loss: 0.0959 - val_accuracy: 0.9714\n",
      "Epoch 17/100\n",
      "430/430 - 2s - loss: 0.0913 - accuracy: 0.9717 - val_loss: 0.0934 - val_accuracy: 0.9718\n",
      "Epoch 18/100\n",
      "430/430 - 2s - loss: 0.0874 - accuracy: 0.9731 - val_loss: 0.0906 - val_accuracy: 0.9730\n",
      "Epoch 19/100\n",
      "430/430 - 2s - loss: 0.0829 - accuracy: 0.9747 - val_loss: 0.0894 - val_accuracy: 0.9746\n",
      "Epoch 20/100\n",
      "430/430 - 2s - loss: 0.0796 - accuracy: 0.9758 - val_loss: 0.0870 - val_accuracy: 0.9736\n",
      "Epoch 21/100\n",
      "430/430 - 2s - loss: 0.0763 - accuracy: 0.9761 - val_loss: 0.0847 - val_accuracy: 0.9760\n",
      "Epoch 22/100\n",
      "430/430 - 2s - loss: 0.0730 - accuracy: 0.9773 - val_loss: 0.0841 - val_accuracy: 0.9748\n",
      "Epoch 23/100\n",
      "430/430 - 2s - loss: 0.0703 - accuracy: 0.9782 - val_loss: 0.0816 - val_accuracy: 0.9762\n",
      "Epoch 24/100\n",
      "430/430 - 2s - loss: 0.0675 - accuracy: 0.9796 - val_loss: 0.0796 - val_accuracy: 0.9774\n",
      "Epoch 25/100\n",
      "430/430 - 2s - loss: 0.0648 - accuracy: 0.9807 - val_loss: 0.0804 - val_accuracy: 0.9750\n",
      "Epoch 26/100\n",
      "430/430 - 2s - loss: 0.0625 - accuracy: 0.9807 - val_loss: 0.0773 - val_accuracy: 0.9780\n",
      "Epoch 27/100\n",
      "430/430 - 2s - loss: 0.0601 - accuracy: 0.9821 - val_loss: 0.0756 - val_accuracy: 0.9778\n",
      "Epoch 28/100\n",
      "430/430 - 2s - loss: 0.0580 - accuracy: 0.9824 - val_loss: 0.0774 - val_accuracy: 0.9768\n",
      "Epoch 29/100\n",
      "430/430 - 2s - loss: 0.0559 - accuracy: 0.9831 - val_loss: 0.0755 - val_accuracy: 0.9790\n",
      "Epoch 30/100\n",
      "430/430 - 2s - loss: 0.0536 - accuracy: 0.9838 - val_loss: 0.0752 - val_accuracy: 0.9788\n",
      "Epoch 31/100\n",
      "430/430 - 2s - loss: 0.0514 - accuracy: 0.9848 - val_loss: 0.0734 - val_accuracy: 0.9788\n",
      "Epoch 32/100\n",
      "430/430 - 2s - loss: 0.0499 - accuracy: 0.9852 - val_loss: 0.0739 - val_accuracy: 0.9780\n",
      "Epoch 33/100\n",
      "430/430 - 2s - loss: 0.0478 - accuracy: 0.9861 - val_loss: 0.0751 - val_accuracy: 0.9772\n",
      "Epoch 34/100\n",
      "430/430 - 2s - loss: 0.0464 - accuracy: 0.9862 - val_loss: 0.0710 - val_accuracy: 0.9792\n",
      "Epoch 35/100\n",
      "430/430 - 2s - loss: 0.0444 - accuracy: 0.9872 - val_loss: 0.0730 - val_accuracy: 0.9782\n",
      "Epoch 36/100\n",
      "430/430 - 2s - loss: 0.0430 - accuracy: 0.9877 - val_loss: 0.0744 - val_accuracy: 0.9774\n",
      "Epoch 37/100\n",
      "430/430 - 2s - loss: 0.0411 - accuracy: 0.9883 - val_loss: 0.0698 - val_accuracy: 0.9814\n",
      "Epoch 38/100\n",
      "430/430 - 2s - loss: 0.0401 - accuracy: 0.9885 - val_loss: 0.0710 - val_accuracy: 0.9782\n",
      "Epoch 39/100\n",
      "430/430 - 2s - loss: 0.0383 - accuracy: 0.9891 - val_loss: 0.0724 - val_accuracy: 0.9796\n",
      "Epoch 40/100\n",
      "430/430 - 2s - loss: 0.0369 - accuracy: 0.9895 - val_loss: 0.0721 - val_accuracy: 0.9786\n",
      "Epoch 41/100\n",
      "430/430 - 2s - loss: 0.0363 - accuracy: 0.9896 - val_loss: 0.0703 - val_accuracy: 0.9796\n",
      "Epoch 42/100\n",
      "430/430 - 2s - loss: 0.0344 - accuracy: 0.9904 - val_loss: 0.0724 - val_accuracy: 0.9804\n",
      "Epoch 43/100\n",
      "430/430 - 2s - loss: 0.0329 - accuracy: 0.9906 - val_loss: 0.0696 - val_accuracy: 0.9812\n",
      "Epoch 44/100\n",
      "430/430 - 2s - loss: 0.0321 - accuracy: 0.9911 - val_loss: 0.0703 - val_accuracy: 0.9802\n",
      "Epoch 45/100\n",
      "430/430 - 2s - loss: 0.0308 - accuracy: 0.9915 - val_loss: 0.0724 - val_accuracy: 0.9810\n",
      "Epoch 46/100\n",
      "430/430 - 2s - loss: 0.0298 - accuracy: 0.9921 - val_loss: 0.0694 - val_accuracy: 0.9808\n",
      "Epoch 47/100\n",
      "430/430 - 2s - loss: 0.0283 - accuracy: 0.9923 - val_loss: 0.0717 - val_accuracy: 0.9802\n",
      "Epoch 48/100\n",
      "430/430 - 2s - loss: 0.0278 - accuracy: 0.9923 - val_loss: 0.0708 - val_accuracy: 0.9816\n",
      "Epoch 49/100\n",
      "430/430 - 2s - loss: 0.0265 - accuracy: 0.9930 - val_loss: 0.0706 - val_accuracy: 0.9816\n",
      "Epoch 50/100\n",
      "430/430 - 2s - loss: 0.0257 - accuracy: 0.9931 - val_loss: 0.0728 - val_accuracy: 0.9806\n",
      "Epoch 51/100\n",
      "430/430 - 2s - loss: 0.0245 - accuracy: 0.9935 - val_loss: 0.0698 - val_accuracy: 0.9804\n",
      "Epoch 52/100\n",
      "430/430 - 2s - loss: 0.0238 - accuracy: 0.9940 - val_loss: 0.0730 - val_accuracy: 0.9802\n",
      "Epoch 53/100\n",
      "430/430 - 2s - loss: 0.0227 - accuracy: 0.9941 - val_loss: 0.0698 - val_accuracy: 0.9818\n",
      "Epoch 54/100\n",
      "430/430 - 2s - loss: 0.0218 - accuracy: 0.9944 - val_loss: 0.0717 - val_accuracy: 0.9810\n",
      "Epoch 55/100\n",
      "430/430 - 2s - loss: 0.0211 - accuracy: 0.9945 - val_loss: 0.0715 - val_accuracy: 0.9824\n",
      "Epoch 56/100\n",
      "430/430 - 2s - loss: 0.0202 - accuracy: 0.9948 - val_loss: 0.0706 - val_accuracy: 0.9810\n",
      "Epoch 57/100\n",
      "430/430 - 2s - loss: 0.0196 - accuracy: 0.9952 - val_loss: 0.0732 - val_accuracy: 0.9812\n",
      "Epoch 58/100\n",
      "430/430 - 2s - loss: 0.0186 - accuracy: 0.9953 - val_loss: 0.0731 - val_accuracy: 0.9812\n",
      "Epoch 59/100\n",
      "430/430 - 2s - loss: 0.0181 - accuracy: 0.9955 - val_loss: 0.0710 - val_accuracy: 0.9822\n",
      "Epoch 60/100\n",
      "430/430 - 2s - loss: 0.0173 - accuracy: 0.9961 - val_loss: 0.0732 - val_accuracy: 0.9810\n",
      "Epoch 61/100\n",
      "430/430 - 2s - loss: 0.0167 - accuracy: 0.9960 - val_loss: 0.0720 - val_accuracy: 0.9814\n",
      "Epoch 62/100\n",
      "430/430 - 2s - loss: 0.0158 - accuracy: 0.9963 - val_loss: 0.0756 - val_accuracy: 0.9814\n",
      "Epoch 63/100\n",
      "430/430 - 2s - loss: 0.0153 - accuracy: 0.9966 - val_loss: 0.0734 - val_accuracy: 0.9798\n",
      "Epoch 64/100\n",
      "430/430 - 2s - loss: 0.0144 - accuracy: 0.9970 - val_loss: 0.0755 - val_accuracy: 0.9798\n",
      "Epoch 65/100\n",
      "430/430 - 2s - loss: 0.0141 - accuracy: 0.9970 - val_loss: 0.0739 - val_accuracy: 0.9810\n",
      "Epoch 66/100\n",
      "430/430 - 2s - loss: 0.0134 - accuracy: 0.9973 - val_loss: 0.0734 - val_accuracy: 0.9824\n",
      "Epoch 67/100\n",
      "430/430 - 2s - loss: 0.0131 - accuracy: 0.9971 - val_loss: 0.0768 - val_accuracy: 0.9810\n",
      "Epoch 68/100\n",
      "430/430 - 2s - loss: 0.0124 - accuracy: 0.9975 - val_loss: 0.0777 - val_accuracy: 0.9814\n",
      "Epoch 69/100\n",
      "430/430 - 2s - loss: 0.0117 - accuracy: 0.9976 - val_loss: 0.0758 - val_accuracy: 0.9810\n",
      "Epoch 70/100\n",
      "430/430 - 2s - loss: 0.0113 - accuracy: 0.9980 - val_loss: 0.0759 - val_accuracy: 0.9814\n",
      "Epoch 71/100\n",
      "430/430 - 2s - loss: 0.0106 - accuracy: 0.9981 - val_loss: 0.0773 - val_accuracy: 0.9812\n",
      "Epoch 72/100\n",
      "430/430 - 2s - loss: 0.0103 - accuracy: 0.9982 - val_loss: 0.0772 - val_accuracy: 0.9804\n",
      "Epoch 73/100\n",
      "430/430 - 2s - loss: 0.0100 - accuracy: 0.9982 - val_loss: 0.0787 - val_accuracy: 0.9816\n",
      "Epoch 74/100\n",
      "430/430 - 2s - loss: 0.0093 - accuracy: 0.9983 - val_loss: 0.0795 - val_accuracy: 0.9806\n",
      "Epoch 75/100\n",
      "430/430 - 2s - loss: 0.0089 - accuracy: 0.9985 - val_loss: 0.0788 - val_accuracy: 0.9816\n",
      "Epoch 76/100\n",
      "430/430 - 2s - loss: 0.0087 - accuracy: 0.9985 - val_loss: 0.0816 - val_accuracy: 0.9804\n",
      "Epoch 77/100\n",
      "430/430 - 2s - loss: 0.0082 - accuracy: 0.9988 - val_loss: 0.0792 - val_accuracy: 0.9816\n",
      "Epoch 78/100\n",
      "430/430 - 2s - loss: 0.0080 - accuracy: 0.9987 - val_loss: 0.0798 - val_accuracy: 0.9804\n",
      "Epoch 79/100\n",
      "430/430 - 2s - loss: 0.0076 - accuracy: 0.9988 - val_loss: 0.0816 - val_accuracy: 0.9808\n",
      "Epoch 80/100\n",
      "430/430 - 2s - loss: 0.0070 - accuracy: 0.9991 - val_loss: 0.0797 - val_accuracy: 0.9812\n",
      "Epoch 81/100\n",
      "430/430 - 2s - loss: 0.0068 - accuracy: 0.9989 - val_loss: 0.0809 - val_accuracy: 0.9816\n",
      "Epoch 82/100\n",
      "430/430 - 2s - loss: 0.0065 - accuracy: 0.9989 - val_loss: 0.0831 - val_accuracy: 0.9814\n",
      "Epoch 83/100\n",
      "430/430 - 2s - loss: 0.0061 - accuracy: 0.9990 - val_loss: 0.0839 - val_accuracy: 0.9794\n",
      "Epoch 84/100\n",
      "430/430 - 2s - loss: 0.0058 - accuracy: 0.9992 - val_loss: 0.0806 - val_accuracy: 0.9818\n",
      "Epoch 85/100\n",
      "430/430 - 2s - loss: 0.0054 - accuracy: 0.9994 - val_loss: 0.0823 - val_accuracy: 0.9814\n",
      "Epoch 86/100\n",
      "430/430 - 2s - loss: 0.0053 - accuracy: 0.9992 - val_loss: 0.0856 - val_accuracy: 0.9798\n",
      "Epoch 87/100\n",
      "430/430 - 2s - loss: 0.0051 - accuracy: 0.9993 - val_loss: 0.0839 - val_accuracy: 0.9802\n",
      "Epoch 88/100\n",
      "430/430 - 1s - loss: 0.0048 - accuracy: 0.9994 - val_loss: 0.0834 - val_accuracy: 0.9820\n",
      "Epoch 89/100\n",
      "430/430 - 1s - loss: 0.0045 - accuracy: 0.9996 - val_loss: 0.0842 - val_accuracy: 0.9814\n",
      "Epoch 90/100\n",
      "430/430 - 1s - loss: 0.0045 - accuracy: 0.9994 - val_loss: 0.0853 - val_accuracy: 0.9812\n",
      "Epoch 91/100\n",
      "430/430 - 1s - loss: 0.0040 - accuracy: 0.9997 - val_loss: 0.0856 - val_accuracy: 0.9814\n",
      "Epoch 92/100\n",
      "430/430 - 1s - loss: 0.0041 - accuracy: 0.9995 - val_loss: 0.0847 - val_accuracy: 0.9818\n",
      "Epoch 93/100\n",
      "430/430 - 1s - loss: 0.0036 - accuracy: 0.9997 - val_loss: 0.0863 - val_accuracy: 0.9820\n",
      "Epoch 94/100\n",
      "430/430 - 1s - loss: 0.0035 - accuracy: 0.9998 - val_loss: 0.0870 - val_accuracy: 0.9814\n",
      "Epoch 95/100\n",
      "430/430 - 2s - loss: 0.0033 - accuracy: 0.9997 - val_loss: 0.0927 - val_accuracy: 0.9796\n",
      "Epoch 96/100\n",
      "430/430 - 2s - loss: 0.0032 - accuracy: 0.9997 - val_loss: 0.0902 - val_accuracy: 0.9814\n",
      "Epoch 97/100\n",
      "430/430 - 1s - loss: 0.0030 - accuracy: 0.9998 - val_loss: 0.0900 - val_accuracy: 0.9810\n",
      "Epoch 98/100\n",
      "430/430 - 2s - loss: 0.0028 - accuracy: 0.9999 - val_loss: 0.0887 - val_accuracy: 0.9804\n",
      "Epoch 99/100\n",
      "430/430 - 2s - loss: 0.0028 - accuracy: 0.9999 - val_loss: 0.0917 - val_accuracy: 0.9812\n",
      "Epoch 100/100\n",
      "430/430 - 1s - loss: 0.0025 - accuracy: 0.9999 - val_loss: 0.0892 - val_accuracy: 0.9814\n"
     ]
    }
   ],
   "source": [
    "history = model.fit(x_train, y_train, batch_size=128, epochs=100,\n",
    "                 validation_data=(x_valid, y_valid),\n",
    "                 verbose=2, shuffle=True)"
   ]
  },
  {
   "cell_type": "code",
   "execution_count": 50,
   "id": "fb871cca-03c6-44c2-af51-4f000657e4d2",
   "metadata": {
    "pycharm": {
     "name": "#%%\n"
    }
   },
   "outputs": [
    {
     "name": "stdout",
     "output_type": "stream",
     "text": [
      "79/79 [==============================] - 0s 3ms/step - loss: 0.0960 - accuracy: 0.9791\n",
      "Test result: 97.910 loss: 0.096\n"
     ]
    }
   ],
   "source": [
    "scores = model.evaluate(x_test, y_test, batch_size=128, verbose=1)\n",
    "print('Test result: %.3f loss: %.3f' % (scores[1] * 100, scores [0]))"
   ]
  },
  {
   "cell_type": "code",
   "execution_count": 51,
   "id": "2cf5a989-ad7a-410d-8312-ee07d46f944a",
   "metadata": {
    "pycharm": {
     "name": "#%%\n"
    }
   },
   "outputs": [
    {
     "data": {
      "image/png": "[encoded data removed]",
      "text/plain": [
       "<Figure size 432x288 with 1 Axes>"
      ]
     },
     "metadata": {
      "needs_background": "light"
     },
     "output_type": "display_data"
    }
   ],
   "source": [
    "pyplot.plot(history.history['accuracy'], label='train acc')\n",
    "pyplot.plot(history.history['val_accuracy'], label='test acc')\n",
    "pyplot.legend()\n",
    "pyplot.show()"
   ]
  },
  {
   "cell_type": "code",
   "execution_count": 52,
   "id": "064a1e4a-3420-4185-aca5-af85fa44f8c1",
   "metadata": {
    "pycharm": {
     "name": "#%%\n"
    }
   },
   "outputs": [
    {
     "data": {
      "image/png": "[encoded data removed]",
      "text/plain": [
       "<Figure size 432x288 with 1 Axes>"
      ]
     },
     "metadata": {
      "needs_background": "light"
     },
     "output_type": "display_data"
    }
   ],
   "source": [
    "pyplot.plot(history.history['loss'], label='train loss')\n",
    "pyplot.plot(history.history['val_loss'], label='test loss')\n",
    "pyplot.legend()\n",
    "pyplot.show()"
   ]
  },
  {
   "cell_type": "markdown",
   "id": "9866a2b4-6336-4870-bdd8-166ae789d1d0",
   "metadata": {
    "pycharm": {
     "name": "#%% md\n"
    }
   },
   "source": [
    "# My some tests:"
   ]
  },
  {
   "cell_type": "markdown",
   "id": "02eb34dc-77fd-4b4f-919a-f1023bfa74ba",
   "metadata": {
    "pycharm": {
     "name": "#%% md\n"
    }
   },
   "source": [
    "## Tesing with Max Pooling"
   ]
  },
  {
   "cell_type": "code",
   "execution_count": 57,
   "id": "33ee60d4-c696-462b-8fbb-4d52fe5a4b15",
   "metadata": {
    "pycharm": {
     "name": "#%%\n"
    }
   },
   "outputs": [],
   "source": [
    "def get_model_max_pool():\n",
    "    md = Sequential()\n",
    "    \n",
    "    # input 1_28x28 or 1_32x32\n",
    "    # CONV_1 6_28x28 f(5x5) ?\n",
    "    md.add(Conv2D(filters=6, kernel_size=5, strides=1,\n",
    "                  padding='same', input_shape=(28, 28, 1),\n",
    "                  activation='tanh'))\n",
    "    \n",
    "    # AVG_POOL_2 2x2 6_14x14\n",
    "    md.add(MaxPooling2D(pool_size=(2, 2)))\n",
    "    \n",
    "    \n",
    "    # CONV_3 16_10x10 f(5x5)\n",
    "    md.add(Conv2D(filters=16, kernel_size=5, strides=1,\n",
    "                  padding='valid', activation='tanh'))\n",
    "    \n",
    "    # AVG_POOL_4 2x2 16_5x5\n",
    "    md.add(MaxPooling2D(pool_size=(2, 2)))\n",
    "    \n",
    "    # CONV_5 120_5x5 f(5x5)\n",
    "    md.add(Conv2D(120, kernel_size=5, strides=1,\n",
    "                 padding='valid', activation='tanh'))\n",
    "    \n",
    "    # FLATTEN\n",
    "    md.add(Flatten())\n",
    "    \n",
    "    # FC_6 84\n",
    "    md.add(Dense(84, activation='tanh'))\n",
    "    \n",
    "    # FC_7 10\n",
    "    md.add(Dense(10, activation='softmax'))\n",
    "    \n",
    "    return md"
   ]
  },
  {
   "cell_type": "code",
   "execution_count": 58,
   "id": "25022ee0-b990-4b09-9009-3a61fb7853a5",
   "metadata": {
    "pycharm": {
     "name": "#%%\n"
    }
   },
   "outputs": [
    {
     "name": "stdout",
     "output_type": "stream",
     "text": [
      "Model: \"sequential_5\"\n",
      "_________________________________________________________________\n",
      "Layer (type)                 Output Shape              Param #   \n",
      "=================================================================\n",
      "conv2d_15 (Conv2D)           (None, 28, 28, 6)         156       \n",
      "_________________________________________________________________\n",
      "max_pooling2d_4 (MaxPooling2 (None, 14, 14, 6)         0         \n",
      "_________________________________________________________________\n",
      "conv2d_16 (Conv2D)           (None, 10, 10, 16)        2416      \n",
      "_________________________________________________________________\n",
      "max_pooling2d_5 (MaxPooling2 (None, 5, 5, 16)          0         \n",
      "_________________________________________________________________\n",
      "conv2d_17 (Conv2D)           (None, 1, 1, 120)         48120     \n",
      "_________________________________________________________________\n",
      "flatten_5 (Flatten)          (None, 120)               0         \n",
      "_________________________________________________________________\n",
      "dense_10 (Dense)             (None, 84)                10164     \n",
      "_________________________________________________________________\n",
      "dense_11 (Dense)             (None, 10)                850       \n",
      "=================================================================\n",
      "Total params: 61,706\n",
      "Trainable params: 61,706\n",
      "Non-trainable params: 0\n",
      "_________________________________________________________________\n"
     ]
    }
   ],
   "source": [
    "model2 = get_model_max_pool()\n",
    "model2.summary()\n",
    "model2.compile(loss='categorical_crossentropy',\n",
    "               optimizer='adamax',\n",
    "               metrics=['accuracy'])"
   ]
  },
  {
   "cell_type": "code",
   "execution_count": 59,
   "id": "6d02dff6-6871-4f39-a197-8b00e0e6999e",
   "metadata": {
    "pycharm": {
     "name": "#%%\n"
    }
   },
   "outputs": [
    {
     "name": "stdout",
     "output_type": "stream",
     "text": [
      "Epoch 1/100\n",
      "430/430 - 2s - loss: 0.8906 - accuracy: 0.7309 - val_loss: 0.3397 - val_accuracy: 0.8994\n",
      "Epoch 2/100\n",
      "430/430 - 1s - loss: 0.2894 - accuracy: 0.9132 - val_loss: 0.2298 - val_accuracy: 0.9320\n",
      "Epoch 3/100\n",
      "430/430 - 2s - loss: 0.2132 - accuracy: 0.9356 - val_loss: 0.1733 - val_accuracy: 0.9510\n",
      "Epoch 4/100\n",
      "430/430 - 2s - loss: 0.1666 - accuracy: 0.9491 - val_loss: 0.1384 - val_accuracy: 0.9594\n",
      "Epoch 5/100\n",
      "430/430 - 2s - loss: 0.1351 - accuracy: 0.9592 - val_loss: 0.1159 - val_accuracy: 0.9654\n",
      "Epoch 6/100\n",
      "430/430 - 2s - loss: 0.1142 - accuracy: 0.9657 - val_loss: 0.1019 - val_accuracy: 0.9684\n",
      "Epoch 7/100\n",
      "430/430 - 2s - loss: 0.1007 - accuracy: 0.9691 - val_loss: 0.0931 - val_accuracy: 0.9712\n",
      "Epoch 8/100\n",
      "430/430 - 2s - loss: 0.0901 - accuracy: 0.9726 - val_loss: 0.0851 - val_accuracy: 0.9738\n",
      "Epoch 9/100\n",
      "430/430 - 2s - loss: 0.0826 - accuracy: 0.9745 - val_loss: 0.0792 - val_accuracy: 0.9764\n",
      "Epoch 10/100\n",
      "430/430 - 2s - loss: 0.0759 - accuracy: 0.9767 - val_loss: 0.0754 - val_accuracy: 0.9786\n",
      "Epoch 11/100\n",
      "430/430 - 2s - loss: 0.0706 - accuracy: 0.9788 - val_loss: 0.0732 - val_accuracy: 0.9794\n",
      "Epoch 12/100\n",
      "430/430 - 2s - loss: 0.0656 - accuracy: 0.9803 - val_loss: 0.0657 - val_accuracy: 0.9796\n",
      "Epoch 13/100\n",
      "430/430 - 2s - loss: 0.0618 - accuracy: 0.9816 - val_loss: 0.0633 - val_accuracy: 0.9810\n",
      "Epoch 14/100\n",
      "430/430 - 2s - loss: 0.0581 - accuracy: 0.9825 - val_loss: 0.0609 - val_accuracy: 0.9824\n",
      "Epoch 15/100\n",
      "430/430 - 2s - loss: 0.0550 - accuracy: 0.9829 - val_loss: 0.0611 - val_accuracy: 0.9824\n",
      "Epoch 16/100\n",
      "430/430 - 2s - loss: 0.0519 - accuracy: 0.9848 - val_loss: 0.0558 - val_accuracy: 0.9834\n",
      "Epoch 17/100\n",
      "430/430 - 2s - loss: 0.0495 - accuracy: 0.9853 - val_loss: 0.0538 - val_accuracy: 0.9856\n",
      "Epoch 18/100\n",
      "430/430 - 2s - loss: 0.0468 - accuracy: 0.9864 - val_loss: 0.0549 - val_accuracy: 0.9846\n",
      "Epoch 19/100\n",
      "430/430 - 2s - loss: 0.0450 - accuracy: 0.9868 - val_loss: 0.0531 - val_accuracy: 0.9846\n",
      "Epoch 20/100\n",
      "430/430 - 2s - loss: 0.0430 - accuracy: 0.9871 - val_loss: 0.0534 - val_accuracy: 0.9848\n",
      "Epoch 21/100\n",
      "430/430 - 2s - loss: 0.0416 - accuracy: 0.9874 - val_loss: 0.0507 - val_accuracy: 0.9854\n",
      "Epoch 22/100\n",
      "430/430 - 2s - loss: 0.0394 - accuracy: 0.9883 - val_loss: 0.0486 - val_accuracy: 0.9862\n",
      "Epoch 23/100\n",
      "430/430 - 2s - loss: 0.0384 - accuracy: 0.9888 - val_loss: 0.0513 - val_accuracy: 0.9852\n",
      "Epoch 24/100\n",
      "430/430 - 2s - loss: 0.0361 - accuracy: 0.9893 - val_loss: 0.0467 - val_accuracy: 0.9862\n",
      "Epoch 25/100\n",
      "430/430 - 2s - loss: 0.0351 - accuracy: 0.9895 - val_loss: 0.0457 - val_accuracy: 0.9870\n",
      "Epoch 26/100\n",
      "430/430 - 2s - loss: 0.0337 - accuracy: 0.9899 - val_loss: 0.0459 - val_accuracy: 0.9872\n",
      "Epoch 27/100\n",
      "430/430 - 2s - loss: 0.0326 - accuracy: 0.9903 - val_loss: 0.0451 - val_accuracy: 0.9882\n",
      "Epoch 28/100\n",
      "430/430 - 2s - loss: 0.0311 - accuracy: 0.9904 - val_loss: 0.0454 - val_accuracy: 0.9870\n",
      "Epoch 29/100\n",
      "430/430 - 2s - loss: 0.0301 - accuracy: 0.9909 - val_loss: 0.0450 - val_accuracy: 0.9864\n",
      "Epoch 30/100\n",
      "430/430 - 2s - loss: 0.0287 - accuracy: 0.9914 - val_loss: 0.0435 - val_accuracy: 0.9874\n",
      "Epoch 31/100\n",
      "430/430 - 2s - loss: 0.0278 - accuracy: 0.9913 - val_loss: 0.0425 - val_accuracy: 0.9874\n",
      "Epoch 32/100\n",
      "430/430 - 2s - loss: 0.0271 - accuracy: 0.9917 - val_loss: 0.0426 - val_accuracy: 0.9886\n",
      "Epoch 33/100\n",
      "430/430 - 2s - loss: 0.0254 - accuracy: 0.9923 - val_loss: 0.0407 - val_accuracy: 0.9884\n",
      "Epoch 34/100\n",
      "430/430 - 2s - loss: 0.0248 - accuracy: 0.9924 - val_loss: 0.0428 - val_accuracy: 0.9892\n",
      "Epoch 35/100\n",
      "430/430 - 2s - loss: 0.0239 - accuracy: 0.9930 - val_loss: 0.0403 - val_accuracy: 0.9880\n",
      "Epoch 36/100\n",
      "430/430 - 2s - loss: 0.0233 - accuracy: 0.9930 - val_loss: 0.0413 - val_accuracy: 0.9890\n",
      "Epoch 37/100\n",
      "430/430 - 2s - loss: 0.0226 - accuracy: 0.9931 - val_loss: 0.0416 - val_accuracy: 0.9878\n",
      "Epoch 38/100\n",
      "430/430 - 2s - loss: 0.0214 - accuracy: 0.9935 - val_loss: 0.0405 - val_accuracy: 0.9874\n",
      "Epoch 39/100\n",
      "430/430 - 2s - loss: 0.0205 - accuracy: 0.9940 - val_loss: 0.0404 - val_accuracy: 0.9884\n",
      "Epoch 40/100\n",
      "430/430 - 2s - loss: 0.0199 - accuracy: 0.9943 - val_loss: 0.0422 - val_accuracy: 0.9878\n",
      "Epoch 41/100\n",
      "430/430 - 2s - loss: 0.0193 - accuracy: 0.9944 - val_loss: 0.0402 - val_accuracy: 0.9888\n",
      "Epoch 42/100\n",
      "430/430 - 2s - loss: 0.0185 - accuracy: 0.9947 - val_loss: 0.0397 - val_accuracy: 0.9882\n",
      "Epoch 43/100\n",
      "430/430 - 2s - loss: 0.0174 - accuracy: 0.9948 - val_loss: 0.0391 - val_accuracy: 0.9898\n",
      "Epoch 44/100\n",
      "430/430 - 2s - loss: 0.0169 - accuracy: 0.9951 - val_loss: 0.0387 - val_accuracy: 0.9892\n",
      "Epoch 45/100\n",
      "430/430 - 2s - loss: 0.0160 - accuracy: 0.9956 - val_loss: 0.0399 - val_accuracy: 0.9886\n",
      "Epoch 46/100\n",
      "430/430 - 2s - loss: 0.0155 - accuracy: 0.9955 - val_loss: 0.0401 - val_accuracy: 0.9888\n",
      "Epoch 47/100\n",
      "430/430 - 2s - loss: 0.0152 - accuracy: 0.9961 - val_loss: 0.0386 - val_accuracy: 0.9890\n",
      "Epoch 48/100\n",
      "430/430 - 2s - loss: 0.0141 - accuracy: 0.9961 - val_loss: 0.0398 - val_accuracy: 0.9892\n",
      "Epoch 49/100\n",
      "430/430 - 2s - loss: 0.0136 - accuracy: 0.9963 - val_loss: 0.0383 - val_accuracy: 0.9892\n",
      "Epoch 50/100\n",
      "430/430 - 2s - loss: 0.0131 - accuracy: 0.9966 - val_loss: 0.0388 - val_accuracy: 0.9880\n",
      "Epoch 51/100\n",
      "430/430 - 2s - loss: 0.0126 - accuracy: 0.9968 - val_loss: 0.0396 - val_accuracy: 0.9892\n",
      "Epoch 52/100\n",
      "430/430 - 2s - loss: 0.0120 - accuracy: 0.9969 - val_loss: 0.0398 - val_accuracy: 0.9892\n",
      "Epoch 53/100\n",
      "430/430 - 2s - loss: 0.0116 - accuracy: 0.9969 - val_loss: 0.0372 - val_accuracy: 0.9904\n",
      "Epoch 54/100\n",
      "430/430 - 2s - loss: 0.0113 - accuracy: 0.9971 - val_loss: 0.0425 - val_accuracy: 0.9872\n",
      "Epoch 55/100\n",
      "430/430 - 2s - loss: 0.0109 - accuracy: 0.9972 - val_loss: 0.0372 - val_accuracy: 0.9896\n",
      "Epoch 56/100\n",
      "430/430 - 2s - loss: 0.0100 - accuracy: 0.9977 - val_loss: 0.0433 - val_accuracy: 0.9886\n",
      "Epoch 57/100\n",
      "430/430 - 2s - loss: 0.0100 - accuracy: 0.9973 - val_loss: 0.0377 - val_accuracy: 0.9900\n",
      "Epoch 58/100\n",
      "430/430 - 2s - loss: 0.0091 - accuracy: 0.9979 - val_loss: 0.0387 - val_accuracy: 0.9900\n",
      "Epoch 59/100\n",
      "430/430 - 2s - loss: 0.0089 - accuracy: 0.9978 - val_loss: 0.0390 - val_accuracy: 0.9890\n",
      "Epoch 60/100\n",
      "430/430 - 2s - loss: 0.0085 - accuracy: 0.9982 - val_loss: 0.0405 - val_accuracy: 0.9888\n",
      "Epoch 61/100\n",
      "430/430 - 2s - loss: 0.0080 - accuracy: 0.9982 - val_loss: 0.0390 - val_accuracy: 0.9888\n",
      "Epoch 62/100\n",
      "430/430 - 2s - loss: 0.0079 - accuracy: 0.9983 - val_loss: 0.0397 - val_accuracy: 0.9898\n",
      "Epoch 63/100\n",
      "430/430 - 1s - loss: 0.0074 - accuracy: 0.9985 - val_loss: 0.0406 - val_accuracy: 0.9888\n",
      "Epoch 64/100\n",
      "430/430 - 2s - loss: 0.0072 - accuracy: 0.9986 - val_loss: 0.0381 - val_accuracy: 0.9896\n",
      "Epoch 65/100\n",
      "430/430 - 1s - loss: 0.0068 - accuracy: 0.9986 - val_loss: 0.0382 - val_accuracy: 0.9886\n",
      "Epoch 66/100\n",
      "430/430 - 2s - loss: 0.0064 - accuracy: 0.9986 - val_loss: 0.0389 - val_accuracy: 0.9904\n",
      "Epoch 67/100\n",
      "430/430 - 2s - loss: 0.0063 - accuracy: 0.9987 - val_loss: 0.0377 - val_accuracy: 0.9904\n",
      "Epoch 68/100\n",
      "430/430 - 2s - loss: 0.0060 - accuracy: 0.9988 - val_loss: 0.0399 - val_accuracy: 0.9886\n",
      "Epoch 69/100\n",
      "430/430 - 2s - loss: 0.0058 - accuracy: 0.9990 - val_loss: 0.0389 - val_accuracy: 0.9900\n",
      "Epoch 70/100\n",
      "430/430 - 2s - loss: 0.0056 - accuracy: 0.9989 - val_loss: 0.0392 - val_accuracy: 0.9894\n",
      "Epoch 71/100\n",
      "430/430 - 2s - loss: 0.0050 - accuracy: 0.9992 - val_loss: 0.0409 - val_accuracy: 0.9886\n",
      "Epoch 72/100\n",
      "430/430 - 2s - loss: 0.0048 - accuracy: 0.9992 - val_loss: 0.0409 - val_accuracy: 0.9894\n",
      "Epoch 73/100\n",
      "430/430 - 2s - loss: 0.0045 - accuracy: 0.9993 - val_loss: 0.0409 - val_accuracy: 0.9902\n",
      "Epoch 74/100\n",
      "430/430 - 2s - loss: 0.0043 - accuracy: 0.9995 - val_loss: 0.0400 - val_accuracy: 0.9894\n",
      "Epoch 75/100\n",
      "430/430 - 2s - loss: 0.0044 - accuracy: 0.9992 - val_loss: 0.0401 - val_accuracy: 0.9904\n",
      "Epoch 76/100\n",
      "430/430 - 2s - loss: 0.0042 - accuracy: 0.9992 - val_loss: 0.0406 - val_accuracy: 0.9900\n",
      "Epoch 77/100\n",
      "430/430 - 2s - loss: 0.0039 - accuracy: 0.9995 - val_loss: 0.0391 - val_accuracy: 0.9902\n",
      "Epoch 78/100\n",
      "430/430 - 2s - loss: 0.0037 - accuracy: 0.9994 - val_loss: 0.0427 - val_accuracy: 0.9890\n",
      "Epoch 79/100\n",
      "430/430 - 2s - loss: 0.0035 - accuracy: 0.9994 - val_loss: 0.0421 - val_accuracy: 0.9880\n",
      "Epoch 80/100\n",
      "430/430 - 2s - loss: 0.0033 - accuracy: 0.9995 - val_loss: 0.0406 - val_accuracy: 0.9904\n",
      "Epoch 81/100\n",
      "430/430 - 2s - loss: 0.0033 - accuracy: 0.9994 - val_loss: 0.0411 - val_accuracy: 0.9894\n",
      "Epoch 82/100\n",
      "430/430 - 2s - loss: 0.0030 - accuracy: 0.9996 - val_loss: 0.0424 - val_accuracy: 0.9884\n",
      "Epoch 83/100\n",
      "430/430 - 2s - loss: 0.0029 - accuracy: 0.9996 - val_loss: 0.0417 - val_accuracy: 0.9904\n",
      "Epoch 84/100\n",
      "430/430 - 2s - loss: 0.0027 - accuracy: 0.9996 - val_loss: 0.0424 - val_accuracy: 0.9896\n",
      "Epoch 85/100\n",
      "430/430 - 2s - loss: 0.0026 - accuracy: 0.9996 - val_loss: 0.0448 - val_accuracy: 0.9896\n",
      "Epoch 86/100\n",
      "430/430 - 2s - loss: 0.0026 - accuracy: 0.9996 - val_loss: 0.0436 - val_accuracy: 0.9890\n",
      "Epoch 87/100\n",
      "430/430 - 2s - loss: 0.0025 - accuracy: 0.9996 - val_loss: 0.0434 - val_accuracy: 0.9900\n",
      "Epoch 88/100\n",
      "430/430 - 2s - loss: 0.0023 - accuracy: 0.9997 - val_loss: 0.0433 - val_accuracy: 0.9900\n",
      "Epoch 89/100\n",
      "430/430 - 2s - loss: 0.0021 - accuracy: 0.9997 - val_loss: 0.0447 - val_accuracy: 0.9884\n",
      "Epoch 90/100\n",
      "430/430 - 2s - loss: 0.0022 - accuracy: 0.9996 - val_loss: 0.0446 - val_accuracy: 0.9898\n",
      "Epoch 91/100\n",
      "430/430 - 2s - loss: 0.0020 - accuracy: 0.9997 - val_loss: 0.0437 - val_accuracy: 0.9896\n",
      "Epoch 92/100\n",
      "430/430 - 2s - loss: 0.0019 - accuracy: 0.9998 - val_loss: 0.0452 - val_accuracy: 0.9904\n",
      "Epoch 93/100\n",
      "430/430 - 2s - loss: 0.0017 - accuracy: 0.9998 - val_loss: 0.0458 - val_accuracy: 0.9900\n",
      "Epoch 94/100\n",
      "430/430 - 2s - loss: 0.0017 - accuracy: 0.9999 - val_loss: 0.0440 - val_accuracy: 0.9900\n",
      "Epoch 95/100\n",
      "430/430 - 2s - loss: 0.0016 - accuracy: 0.9998 - val_loss: 0.0458 - val_accuracy: 0.9896\n",
      "Epoch 96/100\n",
      "430/430 - 1s - loss: 0.0015 - accuracy: 0.9999 - val_loss: 0.0452 - val_accuracy: 0.9900\n",
      "Epoch 97/100\n",
      "430/430 - 2s - loss: 0.0015 - accuracy: 0.9998 - val_loss: 0.0454 - val_accuracy: 0.9896\n",
      "Epoch 98/100\n",
      "430/430 - 2s - loss: 0.0014 - accuracy: 0.9998 - val_loss: 0.0450 - val_accuracy: 0.9896\n",
      "Epoch 99/100\n",
      "430/430 - 2s - loss: 0.0017 - accuracy: 0.9997 - val_loss: 0.0453 - val_accuracy: 0.9896\n",
      "Epoch 100/100\n",
      "430/430 - 2s - loss: 0.0011 - accuracy: 0.9999 - val_loss: 0.0468 - val_accuracy: 0.9892\n"
     ]
    }
   ],
   "source": [
    "history2 = model2.fit(x_train, y_train, batch_size=128, epochs=100,\n",
    "                      validation_data=(x_valid, y_valid),\n",
    "                      verbose=2, shuffle=True)"
   ]
  },
  {
   "cell_type": "code",
   "execution_count": 60,
   "id": "c10ec9a1-397c-475e-91ae-bf75bdd60e39",
   "metadata": {
    "pycharm": {
     "name": "#%%\n"
    }
   },
   "outputs": [
    {
     "name": "stdout",
     "output_type": "stream",
     "text": [
      "79/79 [==============================] - 0s 3ms/step - loss: 0.0395 - accuracy: 0.9890\n",
      "Test result: 98.900 loss: 0.096\n"
     ]
    }
   ],
   "source": [
    "scores2 = model2.evaluate(x_test, y_test, batch_size=128, verbose=1)\n",
    "print('Test result: %.3f loss: %.3f' % (scores2[1] * 100, scores [0]))"
   ]
  },
  {
   "cell_type": "code",
   "execution_count": 61,
   "id": "79fc822f-93b9-4876-89c3-c2a3e8857175",
   "metadata": {
    "pycharm": {
     "name": "#%%\n"
    }
   },
   "outputs": [
    {
     "data": {
      "image/png": "[encoded data removed]",
      "text/plain": [
       "<Figure size 432x288 with 1 Axes>"
      ]
     },
     "metadata": {
      "needs_background": "light"
     },
     "output_type": "display_data"
    },
    {
     "data": {
      "image/png": "[encoded data removed]",
      "text/plain": [
       "<Figure size 432x288 with 1 Axes>"
      ]
     },
     "metadata": {
      "needs_background": "light"
     },
     "output_type": "display_data"
    }
   ],
   "source": [
    "pyplot.plot(history2.history['accuracy'], label='train acc')\n",
    "pyplot.plot(history2.history['val_accuracy'], label='test acc')\n",
    "pyplot.legend()\n",
    "pyplot.show()\n",
    "\n",
    "pyplot.plot(history2.history['loss'], label='train loss')\n",
    "pyplot.plot(history2.history['val_loss'], label='test loss')\n",
    "pyplot.legend()\n",
    "pyplot.show()"
   ]
  },
  {
   "cell_type": "markdown",
   "id": "6014b014-5558-48fb-8c24-24f6d57a7669",
   "metadata": {
    "pycharm": {
     "name": "#%% md\n"
    }
   },
   "source": [
    "## Tesing with ReLU"
   ]
  },
  {
   "cell_type": "code",
   "execution_count": 62,
   "id": "60d83088-54f4-4b6e-a4cf-d17a5231c5ef",
   "metadata": {
    "pycharm": {
     "name": "#%%\n"
    }
   },
   "outputs": [],
   "source": [
    "def get_model_relu():\n",
    "    md = Sequential()\n",
    "    \n",
    "    # input 1_28x28 or 1_32x32\n",
    "    # CONV_1 6_28x28 f(5x5) ?\n",
    "    md.add(Conv2D(filters=6, kernel_size=5, strides=1,\n",
    "                  padding='same', input_shape=(28, 28, 1),\n",
    "                  activation='relu'))\n",
    "    \n",
    "    # AVG_POOL_2 2x2 6_14x14\n",
    "    md.add(MaxPooling2D(pool_size=(2, 2)))\n",
    "    \n",
    "    \n",
    "    # CONV_3 16_10x10 f(5x5)\n",
    "    md.add(Conv2D(filters=16, kernel_size=5, strides=1,\n",
    "                  padding='valid', activation='relu'))\n",
    "    \n",
    "    # AVG_POOL_4 2x2 16_5x5\n",
    "    md.add(MaxPooling2D(pool_size=(2, 2)))\n",
    "    \n",
    "    # CONV_5 120_5x5 f(5x5)\n",
    "    md.add(Conv2D(120, kernel_size=5, strides=1,\n",
    "                 padding='valid', activation='relu'))\n",
    "    \n",
    "    # FLATTEN\n",
    "    md.add(Flatten())\n",
    "    \n",
    "    # FC_6 84\n",
    "    md.add(Dense(84, activation='relu'))\n",
    "    \n",
    "    # FC_7 10\n",
    "    md.add(Dense(10, activation='softmax'))\n",
    "    \n",
    "    return md"
   ]
  },
  {
   "cell_type": "code",
   "execution_count": 63,
   "id": "ca6eb4e4-5576-4a76-8737-21bef0aad4ec",
   "metadata": {
    "pycharm": {
     "name": "#%%\n"
    }
   },
   "outputs": [
    {
     "name": "stdout",
     "output_type": "stream",
     "text": [
      "Model: \"sequential_6\"\n",
      "_________________________________________________________________\n",
      "Layer (type)                 Output Shape              Param #   \n",
      "=================================================================\n",
      "conv2d_18 (Conv2D)           (None, 28, 28, 6)         156       \n",
      "_________________________________________________________________\n",
      "max_pooling2d_6 (MaxPooling2 (None, 14, 14, 6)         0         \n",
      "_________________________________________________________________\n",
      "conv2d_19 (Conv2D)           (None, 10, 10, 16)        2416      \n",
      "_________________________________________________________________\n",
      "max_pooling2d_7 (MaxPooling2 (None, 5, 5, 16)          0         \n",
      "_________________________________________________________________\n",
      "conv2d_20 (Conv2D)           (None, 1, 1, 120)         48120     \n",
      "_________________________________________________________________\n",
      "flatten_6 (Flatten)          (None, 120)               0         \n",
      "_________________________________________________________________\n",
      "dense_12 (Dense)             (None, 84)                10164     \n",
      "_________________________________________________________________\n",
      "dense_13 (Dense)             (None, 10)                850       \n",
      "=================================================================\n",
      "Total params: 61,706\n",
      "Trainable params: 61,706\n",
      "Non-trainable params: 0\n",
      "_________________________________________________________________\n"
     ]
    }
   ],
   "source": [
    "model3 = get_model_relu()\n",
    "model3.summary()\n",
    "model3.compile(loss='categorical_crossentropy',\n",
    "               optimizer='adamax',\n",
    "               metrics=['accuracy'])"
   ]
  },
  {
   "cell_type": "code",
   "execution_count": 64,
   "id": "28846f54-4aa6-4050-8cca-38f499169fba",
   "metadata": {
    "pycharm": {
     "name": "#%%\n"
    }
   },
   "outputs": [
    {
     "name": "stdout",
     "output_type": "stream",
     "text": [
      "Epoch 1/100\n",
      "430/430 - 2s - loss: 1.2184 - accuracy: 0.6261 - val_loss: 0.5419 - val_accuracy: 0.8352\n",
      "Epoch 2/100\n",
      "430/430 - 2s - loss: 0.4712 - accuracy: 0.8563 - val_loss: 0.3894 - val_accuracy: 0.8776\n",
      "Epoch 3/100\n",
      "430/430 - 2s - loss: 0.3461 - accuracy: 0.8949 - val_loss: 0.2958 - val_accuracy: 0.9096\n",
      "Epoch 4/100\n",
      "430/430 - 2s - loss: 0.2726 - accuracy: 0.9165 - val_loss: 0.2275 - val_accuracy: 0.9328\n",
      "Epoch 5/100\n",
      "430/430 - 2s - loss: 0.2193 - accuracy: 0.9333 - val_loss: 0.1804 - val_accuracy: 0.9474\n",
      "Epoch 6/100\n",
      "430/430 - 2s - loss: 0.1823 - accuracy: 0.9447 - val_loss: 0.1554 - val_accuracy: 0.9538\n",
      "Epoch 7/100\n",
      "430/430 - 2s - loss: 0.1557 - accuracy: 0.9525 - val_loss: 0.1323 - val_accuracy: 0.9614\n",
      "Epoch 8/100\n",
      "430/430 - 2s - loss: 0.1354 - accuracy: 0.9591 - val_loss: 0.1229 - val_accuracy: 0.9636\n",
      "Epoch 9/100\n",
      "430/430 - 2s - loss: 0.1209 - accuracy: 0.9624 - val_loss: 0.1033 - val_accuracy: 0.9710\n",
      "Epoch 10/100\n",
      "430/430 - 2s - loss: 0.1086 - accuracy: 0.9662 - val_loss: 0.0985 - val_accuracy: 0.9712\n",
      "Epoch 11/100\n",
      "430/430 - 2s - loss: 0.1009 - accuracy: 0.9684 - val_loss: 0.0863 - val_accuracy: 0.9760\n",
      "Epoch 12/100\n",
      "430/430 - 2s - loss: 0.0928 - accuracy: 0.9708 - val_loss: 0.0858 - val_accuracy: 0.9750\n",
      "Epoch 13/100\n",
      "430/430 - 2s - loss: 0.0862 - accuracy: 0.9730 - val_loss: 0.0786 - val_accuracy: 0.9774\n",
      "Epoch 14/100\n",
      "430/430 - 2s - loss: 0.0806 - accuracy: 0.9747 - val_loss: 0.0784 - val_accuracy: 0.9758\n",
      "Epoch 15/100\n",
      "430/430 - 2s - loss: 0.0763 - accuracy: 0.9757 - val_loss: 0.0690 - val_accuracy: 0.9798\n",
      "Epoch 16/100\n",
      "430/430 - 2s - loss: 0.0709 - accuracy: 0.9779 - val_loss: 0.0766 - val_accuracy: 0.9778\n",
      "Epoch 17/100\n",
      "430/430 - 2s - loss: 0.0682 - accuracy: 0.9784 - val_loss: 0.0661 - val_accuracy: 0.9804\n",
      "Epoch 18/100\n",
      "430/430 - 2s - loss: 0.0646 - accuracy: 0.9795 - val_loss: 0.0627 - val_accuracy: 0.9824\n",
      "Epoch 19/100\n",
      "430/430 - 2s - loss: 0.0604 - accuracy: 0.9811 - val_loss: 0.0622 - val_accuracy: 0.9814\n",
      "Epoch 20/100\n",
      "430/430 - 2s - loss: 0.0583 - accuracy: 0.9821 - val_loss: 0.0585 - val_accuracy: 0.9832\n",
      "Epoch 21/100\n",
      "430/430 - 2s - loss: 0.0555 - accuracy: 0.9829 - val_loss: 0.0568 - val_accuracy: 0.9828\n",
      "Epoch 22/100\n",
      "430/430 - 2s - loss: 0.0527 - accuracy: 0.9836 - val_loss: 0.0601 - val_accuracy: 0.9828\n",
      "Epoch 23/100\n",
      "430/430 - 2s - loss: 0.0497 - accuracy: 0.9845 - val_loss: 0.0603 - val_accuracy: 0.9828\n",
      "Epoch 24/100\n",
      "430/430 - 2s - loss: 0.0480 - accuracy: 0.9849 - val_loss: 0.0583 - val_accuracy: 0.9828\n",
      "Epoch 25/100\n",
      "430/430 - 2s - loss: 0.0465 - accuracy: 0.9855 - val_loss: 0.0583 - val_accuracy: 0.9822\n",
      "Epoch 26/100\n",
      "430/430 - 2s - loss: 0.0438 - accuracy: 0.9862 - val_loss: 0.0535 - val_accuracy: 0.9854\n",
      "Epoch 27/100\n",
      "430/430 - 2s - loss: 0.0421 - accuracy: 0.9870 - val_loss: 0.0546 - val_accuracy: 0.9842\n",
      "Epoch 28/100\n",
      "430/430 - 2s - loss: 0.0407 - accuracy: 0.9870 - val_loss: 0.0507 - val_accuracy: 0.9852\n",
      "Epoch 29/100\n",
      "430/430 - 2s - loss: 0.0386 - accuracy: 0.9879 - val_loss: 0.0518 - val_accuracy: 0.9850\n",
      "Epoch 30/100\n",
      "430/430 - 2s - loss: 0.0371 - accuracy: 0.9883 - val_loss: 0.0527 - val_accuracy: 0.9856\n",
      "Epoch 31/100\n",
      "430/430 - 2s - loss: 0.0361 - accuracy: 0.9885 - val_loss: 0.0525 - val_accuracy: 0.9842\n",
      "Epoch 32/100\n",
      "430/430 - 2s - loss: 0.0350 - accuracy: 0.9887 - val_loss: 0.0493 - val_accuracy: 0.9868\n",
      "Epoch 33/100\n",
      "430/430 - 2s - loss: 0.0332 - accuracy: 0.9893 - val_loss: 0.0496 - val_accuracy: 0.9864\n",
      "Epoch 34/100\n",
      "430/430 - 2s - loss: 0.0327 - accuracy: 0.9901 - val_loss: 0.0497 - val_accuracy: 0.9858\n",
      "Epoch 35/100\n",
      "430/430 - 2s - loss: 0.0312 - accuracy: 0.9904 - val_loss: 0.0524 - val_accuracy: 0.9848\n",
      "Epoch 36/100\n",
      "430/430 - 2s - loss: 0.0299 - accuracy: 0.9906 - val_loss: 0.0478 - val_accuracy: 0.9858\n",
      "Epoch 37/100\n",
      "430/430 - 2s - loss: 0.0290 - accuracy: 0.9909 - val_loss: 0.0464 - val_accuracy: 0.9870\n",
      "Epoch 38/100\n",
      "430/430 - 2s - loss: 0.0289 - accuracy: 0.9905 - val_loss: 0.0456 - val_accuracy: 0.9878\n",
      "Epoch 39/100\n",
      "430/430 - 2s - loss: 0.0264 - accuracy: 0.9916 - val_loss: 0.0456 - val_accuracy: 0.9874\n",
      "Epoch 40/100\n",
      "430/430 - 2s - loss: 0.0257 - accuracy: 0.9922 - val_loss: 0.0497 - val_accuracy: 0.9850\n",
      "Epoch 41/100\n",
      "430/430 - 2s - loss: 0.0246 - accuracy: 0.9923 - val_loss: 0.0469 - val_accuracy: 0.9868\n",
      "Epoch 42/100\n",
      "430/430 - 2s - loss: 0.0239 - accuracy: 0.9927 - val_loss: 0.0500 - val_accuracy: 0.9846\n",
      "Epoch 43/100\n",
      "430/430 - 2s - loss: 0.0233 - accuracy: 0.9929 - val_loss: 0.0502 - val_accuracy: 0.9860\n",
      "Epoch 44/100\n",
      "430/430 - 2s - loss: 0.0225 - accuracy: 0.9930 - val_loss: 0.0477 - val_accuracy: 0.9854\n",
      "Epoch 45/100\n",
      "430/430 - 2s - loss: 0.0215 - accuracy: 0.9933 - val_loss: 0.0464 - val_accuracy: 0.9866\n",
      "Epoch 46/100\n",
      "430/430 - 2s - loss: 0.0205 - accuracy: 0.9941 - val_loss: 0.0508 - val_accuracy: 0.9848\n",
      "Epoch 47/100\n",
      "430/430 - 2s - loss: 0.0202 - accuracy: 0.9939 - val_loss: 0.0477 - val_accuracy: 0.9866\n",
      "Epoch 48/100\n",
      "430/430 - 2s - loss: 0.0194 - accuracy: 0.9941 - val_loss: 0.0487 - val_accuracy: 0.9860\n",
      "Epoch 49/100\n",
      "430/430 - 2s - loss: 0.0186 - accuracy: 0.9942 - val_loss: 0.0486 - val_accuracy: 0.9860\n",
      "Epoch 50/100\n",
      "430/430 - 2s - loss: 0.0182 - accuracy: 0.9945 - val_loss: 0.0469 - val_accuracy: 0.9870\n",
      "Epoch 51/100\n",
      "430/430 - 2s - loss: 0.0176 - accuracy: 0.9946 - val_loss: 0.0509 - val_accuracy: 0.9848\n",
      "Epoch 52/100\n",
      "430/430 - 2s - loss: 0.0167 - accuracy: 0.9948 - val_loss: 0.0484 - val_accuracy: 0.9856\n",
      "Epoch 53/100\n",
      "430/430 - 2s - loss: 0.0166 - accuracy: 0.9949 - val_loss: 0.0466 - val_accuracy: 0.9872\n",
      "Epoch 54/100\n",
      "430/430 - 2s - loss: 0.0157 - accuracy: 0.9954 - val_loss: 0.0489 - val_accuracy: 0.9874\n",
      "Epoch 55/100\n",
      "430/430 - 2s - loss: 0.0151 - accuracy: 0.9955 - val_loss: 0.0473 - val_accuracy: 0.9872\n",
      "Epoch 56/100\n",
      "430/430 - 2s - loss: 0.0143 - accuracy: 0.9959 - val_loss: 0.0519 - val_accuracy: 0.9858\n",
      "Epoch 57/100\n",
      "430/430 - 2s - loss: 0.0139 - accuracy: 0.9958 - val_loss: 0.0504 - val_accuracy: 0.9868\n",
      "Epoch 58/100\n",
      "430/430 - 2s - loss: 0.0134 - accuracy: 0.9961 - val_loss: 0.0482 - val_accuracy: 0.9874\n",
      "Epoch 59/100\n",
      "430/430 - 2s - loss: 0.0132 - accuracy: 0.9960 - val_loss: 0.0512 - val_accuracy: 0.9866\n",
      "Epoch 60/100\n",
      "430/430 - 2s - loss: 0.0125 - accuracy: 0.9965 - val_loss: 0.0507 - val_accuracy: 0.9866\n",
      "Epoch 61/100\n",
      "430/430 - 2s - loss: 0.0117 - accuracy: 0.9968 - val_loss: 0.0484 - val_accuracy: 0.9856\n",
      "Epoch 62/100\n",
      "430/430 - 2s - loss: 0.0124 - accuracy: 0.9963 - val_loss: 0.0518 - val_accuracy: 0.9864\n",
      "Epoch 63/100\n",
      "430/430 - 2s - loss: 0.0109 - accuracy: 0.9970 - val_loss: 0.0518 - val_accuracy: 0.9852\n",
      "Epoch 64/100\n",
      "430/430 - 2s - loss: 0.0106 - accuracy: 0.9970 - val_loss: 0.0483 - val_accuracy: 0.9876\n",
      "Epoch 65/100\n",
      "430/430 - 2s - loss: 0.0102 - accuracy: 0.9971 - val_loss: 0.0502 - val_accuracy: 0.9862\n",
      "Epoch 66/100\n",
      "430/430 - 2s - loss: 0.0103 - accuracy: 0.9970 - val_loss: 0.0545 - val_accuracy: 0.9866\n",
      "Epoch 67/100\n",
      "430/430 - 2s - loss: 0.0098 - accuracy: 0.9974 - val_loss: 0.0499 - val_accuracy: 0.9856\n",
      "Epoch 68/100\n",
      "430/430 - 2s - loss: 0.0093 - accuracy: 0.9973 - val_loss: 0.0516 - val_accuracy: 0.9872\n",
      "Epoch 69/100\n",
      "430/430 - 2s - loss: 0.0092 - accuracy: 0.9974 - val_loss: 0.0512 - val_accuracy: 0.9878\n",
      "Epoch 70/100\n",
      "430/430 - 2s - loss: 0.0087 - accuracy: 0.9975 - val_loss: 0.0507 - val_accuracy: 0.9854\n",
      "Epoch 71/100\n",
      "430/430 - 2s - loss: 0.0081 - accuracy: 0.9976 - val_loss: 0.0524 - val_accuracy: 0.9866\n",
      "Epoch 72/100\n",
      "430/430 - 2s - loss: 0.0079 - accuracy: 0.9980 - val_loss: 0.0524 - val_accuracy: 0.9868\n",
      "Epoch 73/100\n",
      "430/430 - 2s - loss: 0.0080 - accuracy: 0.9979 - val_loss: 0.0531 - val_accuracy: 0.9866\n",
      "Epoch 74/100\n",
      "430/430 - 2s - loss: 0.0075 - accuracy: 0.9980 - val_loss: 0.0532 - val_accuracy: 0.9870\n",
      "Epoch 75/100\n",
      "430/430 - 2s - loss: 0.0075 - accuracy: 0.9980 - val_loss: 0.0534 - val_accuracy: 0.9866\n",
      "Epoch 76/100\n",
      "430/430 - 2s - loss: 0.0066 - accuracy: 0.9984 - val_loss: 0.0528 - val_accuracy: 0.9872\n",
      "Epoch 77/100\n",
      "430/430 - 2s - loss: 0.0068 - accuracy: 0.9983 - val_loss: 0.0546 - val_accuracy: 0.9866\n",
      "Epoch 78/100\n",
      "430/430 - 2s - loss: 0.0068 - accuracy: 0.9981 - val_loss: 0.0590 - val_accuracy: 0.9854\n",
      "Epoch 79/100\n",
      "430/430 - 2s - loss: 0.0061 - accuracy: 0.9983 - val_loss: 0.0530 - val_accuracy: 0.9866\n",
      "Epoch 80/100\n",
      "430/430 - 2s - loss: 0.0059 - accuracy: 0.9983 - val_loss: 0.0563 - val_accuracy: 0.9864\n",
      "Epoch 81/100\n",
      "430/430 - 2s - loss: 0.0055 - accuracy: 0.9988 - val_loss: 0.0537 - val_accuracy: 0.9872\n",
      "Epoch 82/100\n",
      "430/430 - 2s - loss: 0.0058 - accuracy: 0.9985 - val_loss: 0.0590 - val_accuracy: 0.9858\n",
      "Epoch 83/100\n",
      "430/430 - 2s - loss: 0.0050 - accuracy: 0.9988 - val_loss: 0.0535 - val_accuracy: 0.9868\n",
      "Epoch 84/100\n",
      "430/430 - 2s - loss: 0.0055 - accuracy: 0.9985 - val_loss: 0.0566 - val_accuracy: 0.9868\n",
      "Epoch 85/100\n",
      "430/430 - 2s - loss: 0.0049 - accuracy: 0.9987 - val_loss: 0.0573 - val_accuracy: 0.9872\n",
      "Epoch 86/100\n",
      "430/430 - 2s - loss: 0.0046 - accuracy: 0.9990 - val_loss: 0.0564 - val_accuracy: 0.9864\n",
      "Epoch 87/100\n",
      "430/430 - 2s - loss: 0.0044 - accuracy: 0.9990 - val_loss: 0.0558 - val_accuracy: 0.9868\n",
      "Epoch 88/100\n",
      "430/430 - 2s - loss: 0.0042 - accuracy: 0.9990 - val_loss: 0.0601 - val_accuracy: 0.9856\n",
      "Epoch 89/100\n",
      "430/430 - 2s - loss: 0.0039 - accuracy: 0.9991 - val_loss: 0.0590 - val_accuracy: 0.9858\n",
      "Epoch 90/100\n",
      "430/430 - 2s - loss: 0.0039 - accuracy: 0.9991 - val_loss: 0.0591 - val_accuracy: 0.9862\n",
      "Epoch 91/100\n",
      "430/430 - 2s - loss: 0.0035 - accuracy: 0.9992 - val_loss: 0.0584 - val_accuracy: 0.9866\n",
      "Epoch 92/100\n",
      "430/430 - 2s - loss: 0.0036 - accuracy: 0.9992 - val_loss: 0.0602 - val_accuracy: 0.9862\n",
      "Epoch 93/100\n",
      "430/430 - 2s - loss: 0.0033 - accuracy: 0.9993 - val_loss: 0.0565 - val_accuracy: 0.9870\n",
      "Epoch 94/100\n",
      "430/430 - 2s - loss: 0.0034 - accuracy: 0.9992 - val_loss: 0.0582 - val_accuracy: 0.9866\n",
      "Epoch 95/100\n",
      "430/430 - 2s - loss: 0.0032 - accuracy: 0.9993 - val_loss: 0.0625 - val_accuracy: 0.9864\n",
      "Epoch 96/100\n",
      "430/430 - 2s - loss: 0.0029 - accuracy: 0.9994 - val_loss: 0.0594 - val_accuracy: 0.9872\n",
      "Epoch 97/100\n",
      "430/430 - 2s - loss: 0.0028 - accuracy: 0.9994 - val_loss: 0.0614 - val_accuracy: 0.9866\n",
      "Epoch 98/100\n",
      "430/430 - 2s - loss: 0.0027 - accuracy: 0.9995 - val_loss: 0.0604 - val_accuracy: 0.9874\n",
      "Epoch 99/100\n",
      "430/430 - 2s - loss: 0.0030 - accuracy: 0.9992 - val_loss: 0.0606 - val_accuracy: 0.9868\n",
      "Epoch 100/100\n",
      "430/430 - 2s - loss: 0.0025 - accuracy: 0.9994 - val_loss: 0.0613 - val_accuracy: 0.9872\n"
     ]
    }
   ],
   "source": [
    "history3 = model3.fit(x_train, y_train, batch_size=128, epochs=100,\n",
    "                      validation_data=(x_valid, y_valid),\n",
    "                      verbose=2, shuffle=True)"
   ]
  },
  {
   "cell_type": "code",
   "execution_count": 65,
   "id": "e5c2603e-dca3-4f0c-973d-70687064ce54",
   "metadata": {
    "pycharm": {
     "name": "#%%\n"
    }
   },
   "outputs": [
    {
     "name": "stdout",
     "output_type": "stream",
     "text": [
      "79/79 [==============================] - 0s 3ms/step - loss: 0.0509 - accuracy: 0.9890\n",
      "Test result: 98.900 loss: 0.096\n"
     ]
    }
   ],
   "source": [
    "scores3 = model3.evaluate(x_test, y_test, batch_size=128, verbose=1)\n",
    "print('Test result: %.3f loss: %.3f' % (scores2[1] * 100, scores [0]))"
   ]
  },
  {
   "cell_type": "code",
   "execution_count": 66,
   "id": "37b907d8-e4cf-44b0-9766-642eb6cb7793",
   "metadata": {
    "pycharm": {
     "name": "#%%\n"
    }
   },
   "outputs": [
    {
     "data": {
      "image/png": "[encoded data removed]",
      "text/plain": [
       "<Figure size 432x288 with 1 Axes>"
      ]
     },
     "metadata": {
      "needs_background": "light"
     },
     "output_type": "display_data"
    },
    {
     "data": {
      "image/png": "[encoded data removed]",
      "text/plain": [
       "<Figure size 432x288 with 1 Axes>"
      ]
     },
     "metadata": {
      "needs_background": "light"
     },
     "output_type": "display_data"
    }
   ],
   "source": [
    "pyplot.plot(history3.history['accuracy'], label='train acc')\n",
    "pyplot.plot(history3.history['val_accuracy'], label='test acc')\n",
    "pyplot.legend()\n",
    "pyplot.show()\n",
    "\n",
    "pyplot.plot(history3.history['loss'], label='train loss')\n",
    "pyplot.plot(history3.history['val_loss'], label='test loss')\n",
    "pyplot.legend()\n",
    "pyplot.show()"
   ]
  },
  {
   "cell_type": "code",
   "execution_count": null,
   "id": "a9296920-3a4f-4ad0-99ee-aabc8ce0f1b4",
   "metadata": {
    "pycharm": {
     "name": "#%%\n"
    }
   },
   "outputs": [],
   "source": []
  }
 ],
 "metadata": {
  "kernelspec": {
   "display_name": "Python 3",
   "language": "python",
   "name": "python3"
  },
  "language_info": {
   "codemirror_mode": {
    "name": "ipython",
    "version": 3
   },
   "file_extension": ".py",
   "mimetype": "text/x-python",
   "name": "python",
   "nbconvert_exporter": "python",
   "pygments_lexer": "ipython3",
   "version": "3.6.9"
  }
 },
 "nbformat": 4,
 "nbformat_minor": 5
}