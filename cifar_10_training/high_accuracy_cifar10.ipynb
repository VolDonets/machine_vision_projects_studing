{
 "cells": [
  {
   "cell_type": "markdown",
   "id": "b41cdabf-ff60-481e-832f-b7cefa450a85",
   "metadata": {
    "pycharm": {
     "name": "#%% md\n"
    }
   },
   "source": [
    "## Import the dependencies"
   ]
  },
  {
   "cell_type": "code",
   "execution_count": 1,
   "id": "318dfab6-c74b-46de-9e8e-a157da8fd772",
   "metadata": {
    "pycharm": {
     "name": "#%%\n"
    }
   },
   "outputs": [],
   "source": [
    "import keras\n",
    "\n",
    "from keras.datasets import cifar10\n",
    "from keras.preprocessing.image import ImageDataGenerator\n",
    "from keras.models import Sequential\n",
    "from keras.utils import np_utils\n",
    "from keras.layers import Dense, Activation, Flatten, Dropout, Conv2D, MaxPooling2D, BatchNormalization\n",
    "from keras.callbacks import ModelCheckpoint\n",
    "from keras import regularizers, optimizers\n",
    "\n",
    "import numpy as np\n",
    "from matplotlib import pyplot"
   ]
  },
  {
   "cell_type": "markdown",
   "id": "5b92dfbe-ea5d-4e00-91f8-46ac518ddee9",
   "metadata": {
    "pycharm": {
     "name": "#%% md\n"
    }
   },
   "source": [
    "## Get the data ready for training"
   ]
  },
  {
   "cell_type": "code",
   "execution_count": 2,
   "id": "149951ba-40ce-4fc3-9dcb-51cdc07bb709",
   "metadata": {
    "pycharm": {
     "name": "#%%\n"
    }
   },
   "outputs": [],
   "source": [
    "(x_train, y_train), (x_test, y_test) = cifar10.load_data()\n",
    "x_train = x_train.astype('float32')\n",
    "x_test = x_test.astype('float32')\n",
    "\n",
    "(x_train, x_valid) = x_train[5000:], x_train[:5000]\n",
    "(y_train, y_valid) = y_train[5000:], y_train[:5000]"
   ]
  },
  {
   "cell_type": "code",
   "execution_count": 3,
   "id": "8fc2f78a-6995-4a23-b485-4b8a52e63027",
   "metadata": {
    "pycharm": {
     "name": "#%%\n"
    }
   },
   "outputs": [
    {
     "name": "stdout",
     "output_type": "stream",
     "text": [
      "x_train = (45000, 32, 32, 3)\n",
      "x_valid = (5000, 32, 32, 3)\n",
      "x_test = (10000, 32, 32, 3)\n"
     ]
    }
   ],
   "source": [
    "print('x_train =', x_train.shape)\n",
    "print('x_valid =', x_valid.shape)\n",
    "print('x_test =', x_test.shape)"
   ]
  },
  {
   "cell_type": "markdown",
   "id": "f57214e4-a173-43ea-a42c-720628bae6de",
   "metadata": {
    "pycharm": {
     "name": "#%% md\n"
    }
   },
   "source": [
    "### Normalize the data"
   ]
  },
  {
   "cell_type": "code",
   "execution_count": 4,
   "id": "3946d141-b933-4198-8bc1-0d001869cae5",
   "metadata": {
    "pycharm": {
     "name": "#%%\n"
    }
   },
   "outputs": [],
   "source": [
    "mean = np.mean(x_train, axis=(0, 1, 2, 3))\n",
    "std = np.std(x_train, axis=(0, 1, 2, 3))\n",
    "\n",
    "x_train = (x_train - mean) / (std + 1e-7)\n",
    "x_valid = (x_valid - mean) / (std + 1e-7)\n",
    "x_test = (x_test - mean) / (std + 1e-7)"
   ]
  },
  {
   "cell_type": "markdown",
   "id": "6cef220b-6ed5-4243-836f-33bd46a2cdbd",
   "metadata": {
    "tags": [],
    "pycharm": {
     "name": "#%% md\n"
    }
   },
   "source": [
    "### One-hot encode the labels"
   ]
  },
  {
   "cell_type": "code",
   "execution_count": 5,
   "id": "d3079567-71d1-4c26-9d9f-6dd8c95a2a8e",
   "metadata": {
    "pycharm": {
     "name": "#%%\n"
    }
   },
   "outputs": [],
   "source": [
    "num_classes = 10\n",
    "\n",
    "y_train = np_utils.to_categorical(y_train, num_classes)\n",
    "y_valid = np_utils.to_categorical(y_valid, num_classes)\n",
    "y_test = np_utils.to_categorical(y_test, num_classes)"
   ]
  },
  {
   "cell_type": "markdown",
   "id": "8d156ef6-aeb8-4bbf-bba6-46d509fe51e9",
   "metadata": {
    "pycharm": {
     "name": "#%% md\n"
    }
   },
   "source": [
    "### Data augmentation"
   ]
  },
  {
   "cell_type": "code",
   "execution_count": 6,
   "id": "ba9bb6d6-7d79-4d88-9994-7a724bbd9375",
   "metadata": {
    "pycharm": {
     "name": "#%%\n"
    }
   },
   "outputs": [],
   "source": [
    "datagen = ImageDataGenerator(\n",
    "    rotation_range=15,\n",
    "    width_shift_range=0.1,\n",
    "    height_shift_range=0.1,\n",
    "    horizontal_flip=True,\n",
    "    vertical_flip=False\n",
    "    )\n",
    "\n",
    "datagen.fit(x_train)"
   ]
  },
  {
   "cell_type": "markdown",
   "id": "821f6ddc-c04c-4ecc-8530-58b7d60ab86e",
   "metadata": {
    "pycharm": {
     "name": "#%% md\n"
    }
   },
   "source": [
    "## Build the model architecture"
   ]
  },
  {
   "cell_type": "code",
   "execution_count": 7,
   "id": "dcfb7eec-0988-47b3-894d-d22d0c753427",
   "metadata": {
    "pycharm": {
     "name": "#%%\n"
    }
   },
   "outputs": [],
   "source": [
    "# base_hidden_units - number of hidden units variable\n",
    "# weight_decay - L2 regularization hyperparameter\n",
    "\n",
    "def get_model(base_hidden_units=32, weight_decay=1e-4):\n",
    "    md = Sequential()\n",
    "    \n",
    "    # CONV_1\n",
    "    md.add(Conv2D(base_hidden_units, kernel_size=3, padding='same',\n",
    "                  kernel_regularizer=regularizers.l2(weight_decay),\n",
    "                  input_shape=x_train.shape[1:]))\n",
    "    md.add(Activation('relu'))\n",
    "    md.add(BatchNormalization())\n",
    "    \n",
    "    # CONV_2\n",
    "    md.add(Conv2D(base_hidden_units, kernel_size=3, padding='same',\n",
    "                  kernel_regularizer=regularizers.l2(weight_decay)))\n",
    "    md.add(Activation('relu'))\n",
    "    md.add(BatchNormalization())\n",
    "    \n",
    "    # POOL + Dropout\n",
    "    md.add(MaxPooling2D(pool_size=(2,2)))\n",
    "    md.add(Dropout(0.2))\n",
    "    \n",
    "    # CONV_3\n",
    "    md.add(Conv2D(base_hidden_units * 2, kernel_size=3, padding='same',\n",
    "                  kernel_regularizer=regularizers.l2(weight_decay)))\n",
    "    md.add(Activation('relu'))\n",
    "    md.add(BatchNormalization())\n",
    "    \n",
    "    # CONV_4\n",
    "    md.add(Conv2D(base_hidden_units * 2, kernel_size=3, padding='same',\n",
    "                  kernel_regularizer=regularizers.l2(weight_decay)))\n",
    "    md.add(Activation('relu'))\n",
    "    md.add(BatchNormalization())\n",
    "    \n",
    "    # POOL + Dropout\n",
    "    md.add(MaxPooling2D(pool_size=(2,2)))\n",
    "    md.add(Dropout(0.3))\n",
    "    \n",
    "    # CONV_5\n",
    "    md.add(Conv2D(base_hidden_units * 4, kernel_size=3, padding='same',\n",
    "                  kernel_regularizer=regularizers.l2(weight_decay)))\n",
    "    md.add(Activation('relu'))\n",
    "    md.add(BatchNormalization())\n",
    "    \n",
    "    # CONV_6\n",
    "    md.add(Conv2D(base_hidden_units * 4, kernel_size=3, padding='same',\n",
    "                  kernel_regularizer=regularizers.l2(weight_decay)))\n",
    "    md.add(Activation('relu'))\n",
    "    md.add(BatchNormalization())\n",
    "    \n",
    "    # POOL + Dropout\n",
    "    md.add(MaxPooling2D(pool_size=(2,2)))\n",
    "    md.add(Dropout(0.4))\n",
    "    \n",
    "    # FC_7\n",
    "    md.add(Flatten())\n",
    "    md.add(Dense(10, activation='softmax'))\n",
    "    \n",
    "    return md"
   ]
  },
  {
   "cell_type": "code",
   "execution_count": 8,
   "id": "50de2909-505a-49e3-9df7-41fa92ae96db",
   "metadata": {
    "pycharm": {
     "name": "#%%\n"
    }
   },
   "outputs": [
    {
     "name": "stdout",
     "output_type": "stream",
     "text": [
      "Model: \"sequential\"\n",
      "_________________________________________________________________\n",
      "Layer (type)                 Output Shape              Param #   \n",
      "=================================================================\n",
      "conv2d (Conv2D)              (None, 32, 32, 32)        896       \n",
      "_________________________________________________________________\n",
      "activation (Activation)      (None, 32, 32, 32)        0         \n",
      "_________________________________________________________________\n",
      "batch_normalization (BatchNo (None, 32, 32, 32)        128       \n",
      "_________________________________________________________________\n",
      "conv2d_1 (Conv2D)            (None, 32, 32, 32)        9248      \n",
      "_________________________________________________________________\n",
      "activation_1 (Activation)    (None, 32, 32, 32)        0         \n",
      "_________________________________________________________________\n",
      "batch_normalization_1 (Batch (None, 32, 32, 32)        128       \n",
      "_________________________________________________________________\n",
      "max_pooling2d (MaxPooling2D) (None, 16, 16, 32)        0         \n",
      "_________________________________________________________________\n",
      "dropout (Dropout)            (None, 16, 16, 32)        0         \n",
      "_________________________________________________________________\n",
      "conv2d_2 (Conv2D)            (None, 16, 16, 64)        18496     \n",
      "_________________________________________________________________\n",
      "activation_2 (Activation)    (None, 16, 16, 64)        0         \n",
      "_________________________________________________________________\n",
      "batch_normalization_2 (Batch (None, 16, 16, 64)        256       \n",
      "_________________________________________________________________\n",
      "conv2d_3 (Conv2D)            (None, 16, 16, 64)        36928     \n",
      "_________________________________________________________________\n",
      "activation_3 (Activation)    (None, 16, 16, 64)        0         \n",
      "_________________________________________________________________\n",
      "batch_normalization_3 (Batch (None, 16, 16, 64)        256       \n",
      "_________________________________________________________________\n",
      "max_pooling2d_1 (MaxPooling2 (None, 8, 8, 64)          0         \n",
      "_________________________________________________________________\n",
      "dropout_1 (Dropout)          (None, 8, 8, 64)          0         \n",
      "_________________________________________________________________\n",
      "conv2d_4 (Conv2D)            (None, 8, 8, 128)         73856     \n",
      "_________________________________________________________________\n",
      "activation_4 (Activation)    (None, 8, 8, 128)         0         \n",
      "_________________________________________________________________\n",
      "batch_normalization_4 (Batch (None, 8, 8, 128)         512       \n",
      "_________________________________________________________________\n",
      "conv2d_5 (Conv2D)            (None, 8, 8, 128)         147584    \n",
      "_________________________________________________________________\n",
      "activation_5 (Activation)    (None, 8, 8, 128)         0         \n",
      "_________________________________________________________________\n",
      "batch_normalization_5 (Batch (None, 8, 8, 128)         512       \n",
      "_________________________________________________________________\n",
      "max_pooling2d_2 (MaxPooling2 (None, 4, 4, 128)         0         \n",
      "_________________________________________________________________\n",
      "dropout_2 (Dropout)          (None, 4, 4, 128)         0         \n",
      "_________________________________________________________________\n",
      "flatten (Flatten)            (None, 2048)              0         \n",
      "_________________________________________________________________\n",
      "dense (Dense)                (None, 10)                20490     \n",
      "=================================================================\n",
      "Total params: 309,290\n",
      "Trainable params: 308,394\n",
      "Non-trainable params: 896\n",
      "_________________________________________________________________\n"
     ]
    }
   ],
   "source": [
    "model = get_model()\n",
    "model.summary()"
   ]
  },
  {
   "cell_type": "markdown",
   "id": "2e459a74-22f6-43fb-9de7-7d4e0ee88e5e",
   "metadata": {
    "pycharm": {
     "name": "#%% md\n"
    }
   },
   "source": [
    "## Train the model"
   ]
  },
  {
   "cell_type": "code",
   "execution_count": 20,
   "id": "11fd7bfa-d05f-4f9b-9b7b-7d10acb7c2d9",
   "metadata": {
    "pycharm": {
     "name": "#%%\n"
    }
   },
   "outputs": [
    {
     "name": "stderr",
     "output_type": "stream",
     "text": [
      "/home/biba_bo/.local/lib/python3.6/site-packages/keras/engine/training.py:1972: UserWarning: `Model.fit_generator` is deprecated and will be removed in a future version. Please use `Model.fit`, which supports generators.\n",
      "  warnings.warn('`Model.fit_generator` is deprecated and '\n"
     ]
    },
    {
     "name": "stdout",
     "output_type": "stream",
     "text": [
      "Epoch 1/125\n",
      "351/351 - 21s - loss: 2.8354 - accuracy: 0.2747 - val_loss: 2.1116 - val_accuracy: 0.2862\n",
      "Epoch 2/125\n",
      "351/351 - 18s - loss: 2.1172 - accuracy: 0.3625 - val_loss: 1.4777 - val_accuracy: 0.4888\n",
      "Epoch 3/125\n",
      "351/351 - 17s - loss: 1.8742 - accuracy: 0.4015 - val_loss: 1.4306 - val_accuracy: 0.5070\n",
      "Epoch 4/125\n",
      "351/351 - 18s - loss: 1.7339 - accuracy: 0.4329 - val_loss: 1.4224 - val_accuracy: 0.5120\n",
      "Epoch 5/125\n",
      "351/351 - 18s - loss: 1.6403 - accuracy: 0.4639 - val_loss: 1.3526 - val_accuracy: 0.5386\n",
      "Epoch 6/125\n",
      "351/351 - 18s - loss: 1.5661 - accuracy: 0.4902 - val_loss: 1.3353 - val_accuracy: 0.5476\n",
      "Epoch 7/125\n",
      "351/351 - 19s - loss: 1.4823 - accuracy: 0.5075 - val_loss: 1.2727 - val_accuracy: 0.5696\n",
      "Epoch 8/125\n",
      "351/351 - 18s - loss: 1.4159 - accuracy: 0.5315 - val_loss: 1.3415 - val_accuracy: 0.5468\n",
      "Epoch 9/125\n",
      "351/351 - 19s - loss: 1.3625 - accuracy: 0.5447 - val_loss: 1.2316 - val_accuracy: 0.5784\n",
      "Epoch 10/125\n",
      "351/351 - 19s - loss: 1.3052 - accuracy: 0.5642 - val_loss: 1.2001 - val_accuracy: 0.5920\n",
      "Epoch 11/125\n",
      "351/351 - 19s - loss: 1.2652 - accuracy: 0.5778 - val_loss: 1.1857 - val_accuracy: 0.6016\n",
      "Epoch 12/125\n",
      "351/351 - 19s - loss: 1.2178 - accuracy: 0.5912 - val_loss: 1.2036 - val_accuracy: 0.5916\n",
      "Epoch 13/125\n",
      "351/351 - 19s - loss: 1.1819 - accuracy: 0.6036 - val_loss: 1.0805 - val_accuracy: 0.6344\n",
      "Epoch 14/125\n",
      "351/351 - 19s - loss: 1.1467 - accuracy: 0.6138 - val_loss: 1.0800 - val_accuracy: 0.6356\n",
      "Epoch 15/125\n",
      "351/351 - 18s - loss: 1.1114 - accuracy: 0.6261 - val_loss: 1.0776 - val_accuracy: 0.6326\n",
      "Epoch 16/125\n",
      "351/351 - 19s - loss: 1.0869 - accuracy: 0.6366 - val_loss: 1.0248 - val_accuracy: 0.6540\n",
      "Epoch 17/125\n",
      "351/351 - 19s - loss: 1.0553 - accuracy: 0.6459 - val_loss: 1.0029 - val_accuracy: 0.6616\n",
      "Epoch 18/125\n",
      "351/351 - 19s - loss: 1.0313 - accuracy: 0.6556 - val_loss: 0.9897 - val_accuracy: 0.6704\n",
      "Epoch 19/125\n",
      "351/351 - 18s - loss: 1.0086 - accuracy: 0.6594 - val_loss: 0.9572 - val_accuracy: 0.6834\n",
      "Epoch 20/125\n",
      "351/351 - 18s - loss: 0.9817 - accuracy: 0.6695 - val_loss: 0.9813 - val_accuracy: 0.6758\n",
      "Epoch 21/125\n",
      "351/351 - 18s - loss: 0.9564 - accuracy: 0.6784 - val_loss: 0.8954 - val_accuracy: 0.7020\n",
      "Epoch 22/125\n",
      "351/351 - 18s - loss: 0.9355 - accuracy: 0.6862 - val_loss: 0.8587 - val_accuracy: 0.7170\n",
      "Epoch 23/125\n",
      "351/351 - 18s - loss: 0.9241 - accuracy: 0.6891 - val_loss: 0.8746 - val_accuracy: 0.7152\n",
      "Epoch 24/125\n",
      "351/351 - 19s - loss: 0.9063 - accuracy: 0.6944 - val_loss: 0.8253 - val_accuracy: 0.7250\n",
      "Epoch 25/125\n",
      "351/351 - 18s - loss: 0.8919 - accuracy: 0.7025 - val_loss: 0.8266 - val_accuracy: 0.7278\n",
      "Epoch 26/125\n",
      "351/351 - 18s - loss: 0.8654 - accuracy: 0.7074 - val_loss: 0.8115 - val_accuracy: 0.7308\n",
      "Epoch 27/125\n",
      "351/351 - 19s - loss: 0.8592 - accuracy: 0.7113 - val_loss: 0.7659 - val_accuracy: 0.7434\n",
      "Epoch 28/125\n",
      "351/351 - 19s - loss: 0.8372 - accuracy: 0.7170 - val_loss: 0.8378 - val_accuracy: 0.7246\n",
      "Epoch 29/125\n",
      "351/351 - 19s - loss: 0.8333 - accuracy: 0.7186 - val_loss: 0.8029 - val_accuracy: 0.7418\n",
      "Epoch 30/125\n",
      "351/351 - 18s - loss: 0.8180 - accuracy: 0.7231 - val_loss: 0.7872 - val_accuracy: 0.7394\n",
      "Epoch 31/125\n",
      "351/351 - 18s - loss: 0.8094 - accuracy: 0.7266 - val_loss: 0.7590 - val_accuracy: 0.7500\n",
      "Epoch 32/125\n",
      "351/351 - 18s - loss: 0.7907 - accuracy: 0.7352 - val_loss: 0.7310 - val_accuracy: 0.7638\n",
      "Epoch 33/125\n",
      "351/351 - 18s - loss: 0.7774 - accuracy: 0.7390 - val_loss: 0.7657 - val_accuracy: 0.7454\n",
      "Epoch 34/125\n",
      "351/351 - 18s - loss: 0.7724 - accuracy: 0.7427 - val_loss: 0.7029 - val_accuracy: 0.7698\n",
      "Epoch 35/125\n",
      "351/351 - 18s - loss: 0.7613 - accuracy: 0.7437 - val_loss: 0.7136 - val_accuracy: 0.7654\n",
      "Epoch 36/125\n",
      "351/351 - 19s - loss: 0.7559 - accuracy: 0.7490 - val_loss: 0.6975 - val_accuracy: 0.7756\n",
      "Epoch 37/125\n",
      "351/351 - 19s - loss: 0.7476 - accuracy: 0.7510 - val_loss: 0.6916 - val_accuracy: 0.7730\n",
      "Epoch 38/125\n",
      "351/351 - 18s - loss: 0.7336 - accuracy: 0.7568 - val_loss: 0.6790 - val_accuracy: 0.7752\n",
      "Epoch 39/125\n",
      "351/351 - 18s - loss: 0.7262 - accuracy: 0.7612 - val_loss: 0.6642 - val_accuracy: 0.7844\n",
      "Epoch 40/125\n",
      "351/351 - 18s - loss: 0.7180 - accuracy: 0.7598 - val_loss: 0.6933 - val_accuracy: 0.7718\n",
      "Epoch 41/125\n",
      "351/351 - 18s - loss: 0.7125 - accuracy: 0.7630 - val_loss: 0.6633 - val_accuracy: 0.7882\n",
      "Epoch 42/125\n",
      "351/351 - 18s - loss: 0.7008 - accuracy: 0.7671 - val_loss: 0.6707 - val_accuracy: 0.7818\n",
      "Epoch 43/125\n",
      "351/351 - 19s - loss: 0.6883 - accuracy: 0.7718 - val_loss: 0.6551 - val_accuracy: 0.7862\n",
      "Epoch 44/125\n",
      "351/351 - 19s - loss: 0.6864 - accuracy: 0.7738 - val_loss: 0.6111 - val_accuracy: 0.8026\n",
      "Epoch 45/125\n",
      "351/351 - 19s - loss: 0.6792 - accuracy: 0.7757 - val_loss: 0.6631 - val_accuracy: 0.7866\n",
      "Epoch 46/125\n",
      "351/351 - 19s - loss: 0.6751 - accuracy: 0.7751 - val_loss: 0.6149 - val_accuracy: 0.8048\n",
      "Epoch 47/125\n",
      "351/351 - 19s - loss: 0.6658 - accuracy: 0.7796 - val_loss: 0.6393 - val_accuracy: 0.7940\n",
      "Epoch 48/125\n",
      "351/351 - 19s - loss: 0.6599 - accuracy: 0.7808 - val_loss: 0.6251 - val_accuracy: 0.8046\n",
      "Epoch 49/125\n",
      "351/351 - 19s - loss: 0.6497 - accuracy: 0.7844 - val_loss: 0.5926 - val_accuracy: 0.8094\n",
      "Epoch 50/125\n",
      "351/351 - 19s - loss: 0.6481 - accuracy: 0.7859 - val_loss: 0.6265 - val_accuracy: 0.7996\n",
      "Epoch 51/125\n",
      "351/351 - 19s - loss: 0.6412 - accuracy: 0.7866 - val_loss: 0.6156 - val_accuracy: 0.8008\n",
      "Epoch 52/125\n",
      "351/351 - 19s - loss: 0.6391 - accuracy: 0.7889 - val_loss: 0.6241 - val_accuracy: 0.8028\n",
      "Epoch 53/125\n",
      "351/351 - 18s - loss: 0.6304 - accuracy: 0.7926 - val_loss: 0.6151 - val_accuracy: 0.8020\n",
      "Epoch 54/125\n",
      "351/351 - 18s - loss: 0.6296 - accuracy: 0.7939 - val_loss: 0.6254 - val_accuracy: 0.7988\n",
      "Epoch 55/125\n",
      "351/351 - 18s - loss: 0.6211 - accuracy: 0.7955 - val_loss: 0.6172 - val_accuracy: 0.8034\n",
      "Epoch 56/125\n",
      "351/351 - 18s - loss: 0.6175 - accuracy: 0.7951 - val_loss: 0.5936 - val_accuracy: 0.8130\n",
      "Epoch 57/125\n",
      "351/351 - 18s - loss: 0.6121 - accuracy: 0.7967 - val_loss: 0.5777 - val_accuracy: 0.8158\n",
      "Epoch 58/125\n",
      "351/351 - 18s - loss: 0.6088 - accuracy: 0.7992 - val_loss: 0.5859 - val_accuracy: 0.8128\n",
      "Epoch 59/125\n",
      "351/351 - 18s - loss: 0.6051 - accuracy: 0.8025 - val_loss: 0.5235 - val_accuracy: 0.8330\n",
      "Epoch 60/125\n",
      "351/351 - 18s - loss: 0.6018 - accuracy: 0.8019 - val_loss: 0.5664 - val_accuracy: 0.8162\n",
      "Epoch 61/125\n",
      "351/351 - 18s - loss: 0.5959 - accuracy: 0.8058 - val_loss: 0.5625 - val_accuracy: 0.8182\n",
      "Epoch 62/125\n",
      "351/351 - 18s - loss: 0.5918 - accuracy: 0.8046 - val_loss: 0.5530 - val_accuracy: 0.8204\n",
      "Epoch 63/125\n",
      "351/351 - 18s - loss: 0.5857 - accuracy: 0.8065 - val_loss: 0.5571 - val_accuracy: 0.8200\n",
      "Epoch 64/125\n",
      "351/351 - 18s - loss: 0.5867 - accuracy: 0.8073 - val_loss: 0.5484 - val_accuracy: 0.8240\n",
      "Epoch 65/125\n",
      "351/351 - 18s - loss: 0.5742 - accuracy: 0.8127 - val_loss: 0.5500 - val_accuracy: 0.8230\n",
      "Epoch 66/125\n",
      "351/351 - 18s - loss: 0.5750 - accuracy: 0.8113 - val_loss: 0.5460 - val_accuracy: 0.8252\n",
      "Epoch 67/125\n",
      "351/351 - 18s - loss: 0.5707 - accuracy: 0.8136 - val_loss: 0.5436 - val_accuracy: 0.8280\n",
      "Epoch 68/125\n",
      "351/351 - 18s - loss: 0.5680 - accuracy: 0.8149 - val_loss: 0.5131 - val_accuracy: 0.8350\n",
      "Epoch 69/125\n",
      "351/351 - 19s - loss: 0.5633 - accuracy: 0.8133 - val_loss: 0.5321 - val_accuracy: 0.8248\n",
      "Epoch 70/125\n",
      "351/351 - 19s - loss: 0.5601 - accuracy: 0.8149 - val_loss: 0.4957 - val_accuracy: 0.8440\n",
      "Epoch 71/125\n",
      "351/351 - 18s - loss: 0.5631 - accuracy: 0.8148 - val_loss: 0.5496 - val_accuracy: 0.8262\n",
      "Epoch 72/125\n",
      "351/351 - 19s - loss: 0.5585 - accuracy: 0.8181 - val_loss: 0.5185 - val_accuracy: 0.8346\n",
      "Epoch 73/125\n",
      "351/351 - 19s - loss: 0.5477 - accuracy: 0.8190 - val_loss: 0.5031 - val_accuracy: 0.8410\n",
      "Epoch 74/125\n",
      "351/351 - 19s - loss: 0.5473 - accuracy: 0.8214 - val_loss: 0.5448 - val_accuracy: 0.8214\n",
      "Epoch 75/125\n",
      "351/351 - 19s - loss: 0.5443 - accuracy: 0.8204 - val_loss: 0.5283 - val_accuracy: 0.8338\n",
      "Epoch 76/125\n",
      "351/351 - 18s - loss: 0.5421 - accuracy: 0.8234 - val_loss: 0.5285 - val_accuracy: 0.8318\n",
      "Epoch 77/125\n",
      "351/351 - 19s - loss: 0.5394 - accuracy: 0.8242 - val_loss: 0.4920 - val_accuracy: 0.8432\n",
      "Epoch 78/125\n",
      "351/351 - 19s - loss: 0.5362 - accuracy: 0.8245 - val_loss: 0.5460 - val_accuracy: 0.8282\n",
      "Epoch 79/125\n",
      "351/351 - 19s - loss: 0.5334 - accuracy: 0.8243 - val_loss: 0.5470 - val_accuracy: 0.8208\n",
      "Epoch 80/125\n",
      "351/351 - 19s - loss: 0.5279 - accuracy: 0.8282 - val_loss: 0.4962 - val_accuracy: 0.8436\n",
      "Epoch 81/125\n",
      "351/351 - 19s - loss: 0.5259 - accuracy: 0.8266 - val_loss: 0.5024 - val_accuracy: 0.8406\n",
      "Epoch 82/125\n",
      "351/351 - 19s - loss: 0.5216 - accuracy: 0.8309 - val_loss: 0.5216 - val_accuracy: 0.8392\n",
      "Epoch 83/125\n",
      "351/351 - 19s - loss: 0.5219 - accuracy: 0.8294 - val_loss: 0.4830 - val_accuracy: 0.8476\n",
      "Epoch 84/125\n",
      "351/351 - 18s - loss: 0.5163 - accuracy: 0.8305 - val_loss: 0.5044 - val_accuracy: 0.8434\n",
      "Epoch 85/125\n",
      "351/351 - 18s - loss: 0.5118 - accuracy: 0.8338 - val_loss: 0.5056 - val_accuracy: 0.8438\n",
      "Epoch 86/125\n",
      "351/351 - 19s - loss: 0.5141 - accuracy: 0.8338 - val_loss: 0.4960 - val_accuracy: 0.8430\n",
      "Epoch 87/125\n",
      "351/351 - 19s - loss: 0.5055 - accuracy: 0.8350 - val_loss: 0.4845 - val_accuracy: 0.8504\n",
      "Epoch 88/125\n",
      "351/351 - 19s - loss: 0.5093 - accuracy: 0.8343 - val_loss: 0.4584 - val_accuracy: 0.8558\n",
      "Epoch 89/125\n",
      "351/351 - 19s - loss: 0.5108 - accuracy: 0.8348 - val_loss: 0.4792 - val_accuracy: 0.8512\n",
      "Epoch 90/125\n",
      "351/351 - 19s - loss: 0.5053 - accuracy: 0.8368 - val_loss: 0.4735 - val_accuracy: 0.8532\n",
      "Epoch 91/125\n",
      "351/351 - 19s - loss: 0.5012 - accuracy: 0.8368 - val_loss: 0.4726 - val_accuracy: 0.8542\n",
      "Epoch 92/125\n",
      "351/351 - 19s - loss: 0.4957 - accuracy: 0.8390 - val_loss: 0.4870 - val_accuracy: 0.8494\n",
      "Epoch 93/125\n",
      "351/351 - 19s - loss: 0.5003 - accuracy: 0.8385 - val_loss: 0.5034 - val_accuracy: 0.8408\n",
      "Epoch 94/125\n",
      "351/351 - 20s - loss: 0.4963 - accuracy: 0.8385 - val_loss: 0.5023 - val_accuracy: 0.8440\n",
      "Epoch 95/125\n",
      "351/351 - 19s - loss: 0.4958 - accuracy: 0.8391 - val_loss: 0.4568 - val_accuracy: 0.8578\n",
      "Epoch 96/125\n",
      "351/351 - 19s - loss: 0.4881 - accuracy: 0.8413 - val_loss: 0.4836 - val_accuracy: 0.8482\n",
      "Epoch 97/125\n",
      "351/351 - 19s - loss: 0.4855 - accuracy: 0.8420 - val_loss: 0.4607 - val_accuracy: 0.8588\n",
      "Epoch 98/125\n",
      "351/351 - 18s - loss: 0.4855 - accuracy: 0.8424 - val_loss: 0.4964 - val_accuracy: 0.8500\n",
      "Epoch 99/125\n",
      "351/351 - 18s - loss: 0.4861 - accuracy: 0.8424 - val_loss: 0.4914 - val_accuracy: 0.8458\n",
      "Epoch 100/125\n",
      "351/351 - 19s - loss: 0.4817 - accuracy: 0.8446 - val_loss: 0.4788 - val_accuracy: 0.8536\n",
      "Epoch 101/125\n",
      "351/351 - 18s - loss: 0.4758 - accuracy: 0.8475 - val_loss: 0.4947 - val_accuracy: 0.8494\n",
      "Epoch 102/125\n",
      "351/351 - 18s - loss: 0.4756 - accuracy: 0.8459 - val_loss: 0.4948 - val_accuracy: 0.8476\n",
      "Epoch 103/125\n",
      "351/351 - 19s - loss: 0.4786 - accuracy: 0.8459 - val_loss: 0.4763 - val_accuracy: 0.8544\n",
      "Epoch 104/125\n",
      "351/351 - 19s - loss: 0.4727 - accuracy: 0.8468 - val_loss: 0.4725 - val_accuracy: 0.8526\n",
      "Epoch 105/125\n",
      "351/351 - 19s - loss: 0.4740 - accuracy: 0.8461 - val_loss: 0.4515 - val_accuracy: 0.8594\n",
      "Epoch 106/125\n",
      "351/351 - 19s - loss: 0.4748 - accuracy: 0.8470 - val_loss: 0.4674 - val_accuracy: 0.8588\n",
      "Epoch 107/125\n",
      "351/351 - 19s - loss: 0.4665 - accuracy: 0.8509 - val_loss: 0.4506 - val_accuracy: 0.8596\n",
      "Epoch 108/125\n",
      "351/351 - 19s - loss: 0.4666 - accuracy: 0.8482 - val_loss: 0.4744 - val_accuracy: 0.8510\n",
      "Epoch 109/125\n",
      "351/351 - 18s - loss: 0.4623 - accuracy: 0.8509 - val_loss: 0.4784 - val_accuracy: 0.8546\n",
      "Epoch 110/125\n",
      "351/351 - 18s - loss: 0.4655 - accuracy: 0.8499 - val_loss: 0.4784 - val_accuracy: 0.8504\n",
      "Epoch 111/125\n",
      "351/351 - 19s - loss: 0.4676 - accuracy: 0.8482 - val_loss: 0.4753 - val_accuracy: 0.8550\n",
      "Epoch 112/125\n",
      "351/351 - 19s - loss: 0.4592 - accuracy: 0.8514 - val_loss: 0.4554 - val_accuracy: 0.8612\n",
      "Epoch 113/125\n",
      "351/351 - 19s - loss: 0.4599 - accuracy: 0.8518 - val_loss: 0.4655 - val_accuracy: 0.8598\n",
      "Epoch 114/125\n",
      "351/351 - 19s - loss: 0.4531 - accuracy: 0.8537 - val_loss: 0.4624 - val_accuracy: 0.8610\n",
      "Epoch 115/125\n",
      "351/351 - 19s - loss: 0.4522 - accuracy: 0.8546 - val_loss: 0.4550 - val_accuracy: 0.8628\n",
      "Epoch 116/125\n",
      "351/351 - 19s - loss: 0.4512 - accuracy: 0.8533 - val_loss: 0.4592 - val_accuracy: 0.8626\n",
      "Epoch 117/125\n",
      "351/351 - 19s - loss: 0.4526 - accuracy: 0.8535 - val_loss: 0.4599 - val_accuracy: 0.8612\n",
      "Epoch 118/125\n",
      "351/351 - 19s - loss: 0.4515 - accuracy: 0.8531 - val_loss: 0.4487 - val_accuracy: 0.8670\n",
      "Epoch 119/125\n",
      "351/351 - 19s - loss: 0.4437 - accuracy: 0.8577 - val_loss: 0.4538 - val_accuracy: 0.8594\n",
      "Epoch 120/125\n",
      "351/351 - 19s - loss: 0.4506 - accuracy: 0.8555 - val_loss: 0.4414 - val_accuracy: 0.8674\n",
      "Epoch 121/125\n",
      "351/351 - 19s - loss: 0.4484 - accuracy: 0.8560 - val_loss: 0.4347 - val_accuracy: 0.8702\n",
      "Epoch 122/125\n",
      "351/351 - 19s - loss: 0.4404 - accuracy: 0.8565 - val_loss: 0.4450 - val_accuracy: 0.8654\n",
      "Epoch 123/125\n",
      "351/351 - 19s - loss: 0.4408 - accuracy: 0.8578 - val_loss: 0.4479 - val_accuracy: 0.8664\n",
      "Epoch 124/125\n",
      "351/351 - 19s - loss: 0.4376 - accuracy: 0.8600 - val_loss: 0.4431 - val_accuracy: 0.8698\n",
      "Epoch 125/125\n",
      "351/351 - 19s - loss: 0.4378 - accuracy: 0.8579 - val_loss: 0.4399 - val_accuracy: 0.8650\n"
     ]
    }
   ],
   "source": [
    "batch_size = 128\n",
    "epochs = 125\n",
    "model_file_path = 'high_acc_mod_cifar10.hdf5'\n",
    "\n",
    "checkpointer = ModelCheckpoint(filepath=model_file_path, verpose=1,\n",
    "                               save_best_only=True)\n",
    "\n",
    "optimizer = tensorflow.optimizers.Adam(lr=0.0001, decay=1e-6)\n",
    "\n",
    "model.compile(loss='categorical_crossentropy', optimizer=optimizer,\n",
    "              metrics=['accuracy'])\n",
    "\n",
    "history = model.fit_generator(datagen.flow(x_train, y_train,\n",
    "                                           batch_size=batch_size), \n",
    "                              callbacks=[checkpointer],\n",
    "                              steps_per_epoch=x_train.shape[0] // batch_size, epochs=epochs,\n",
    "                              verbose=2, validation_data=(x_valid, y_valid))"
   ]
  },
  {
   "cell_type": "markdown",
   "id": "1499c865-b320-4b11-9e9f-7feeef1d1a18",
   "metadata": {
    "pycharm": {
     "name": "#%% md\n"
    }
   },
   "source": [
    "## Evaluate the model"
   ]
  },
  {
   "cell_type": "code",
   "execution_count": 21,
   "id": "40643e0c-6320-45f2-bf4a-a3847563a6bf",
   "metadata": {
    "pycharm": {
     "name": "#%%\n"
    }
   },
   "outputs": [
    {
     "name": "stdout",
     "output_type": "stream",
     "text": [
      "79/79 [==============================] - 1s 11ms/step - loss: 0.4935 - accuracy: 0.8494\n",
      "Test result: 84.940 loss: 0.493\n"
     ]
    }
   ],
   "source": [
    "scores = model.evaluate(x_test, y_test, batch_size=128, verbose=1)\n",
    "print('Test result: %.3f loss: %.3f' % (scores[1] * 100, scores [0]))"
   ]
  },
  {
   "cell_type": "code",
   "execution_count": 25,
   "id": "7986c583-7fee-4dd0-a685-d51e5922add2",
   "metadata": {
    "pycharm": {
     "name": "#%%\n"
    }
   },
   "outputs": [
    {
     "data": {
      "image/png": "[encoded data removed]",
      "text/plain": [
       "<Figure size 432x288 with 1 Axes>"
      ]
     },
     "metadata": {
      "needs_background": "light"
     },
     "output_type": "display_data"
    }
   ],
   "source": [
    "pyplot.plot(history.history['accuracy'], label='train acc')\n",
    "pyplot.plot(history.history['val_accuracy'], label='test acc')\n",
    "pyplot.legend()\n",
    "pyplot.show()"
   ]
  },
  {
   "cell_type": "code",
   "execution_count": 24,
   "id": "e3a60f65-342d-4e0d-babf-b1ebe0ed0b30",
   "metadata": {
    "pycharm": {
     "name": "#%%\n"
    }
   },
   "outputs": [
    {
     "data": {
      "image/png": "[encoded data removed]",
      "text/plain": [
       "<Figure size 432x288 with 1 Axes>"
      ]
     },
     "metadata": {
      "needs_background": "light"
     },
     "output_type": "display_data"
    }
   ],
   "source": [
    "pyplot.plot(history.history['loss'], label='train loss')\n",
    "pyplot.plot(history.history['val_loss'], label='test loss')\n",
    "pyplot.legend()\n",
    "pyplot.show()"
   ]
  },
  {
   "cell_type": "code",
   "execution_count": null,
   "id": "b6857102-f20b-4db5-a2cb-d92a285683f5",
   "metadata": {
    "pycharm": {
     "name": "#%%\n"
    }
   },
   "outputs": [],
   "source": []
  }
 ],
 "metadata": {
  "kernelspec": {
   "display_name": "Python 3",
   "language": "python",
   "name": "python3"
  },
  "language_info": {
   "codemirror_mode": {
    "name": "ipython",
    "version": 3
   },
   "file_extension": ".py",
   "mimetype": "text/x-python",
   "name": "python",
   "nbconvert_exporter": "python",
   "pygments_lexer": "ipython3",
   "version": "3.6.9"
  }
 },
 "nbformat": 4,
 "nbformat_minor": 5
}