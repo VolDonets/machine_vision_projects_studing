{
 "cells": [
  {
   "cell_type": "code",
   "execution_count": 1,
   "id": "1c3d50d6-0d92-4ab7-9cfc-fab700e56df8",
   "metadata": {
    "pycharm": {
     "name": "#%%\n"
    }
   },
   "outputs": [
    {
     "name": "stderr",
     "output_type": "stream",
     "text": [
      "UsageError: Line magic function `%` not found.\n"
     ]
    }
   ],
   "source": [
    "% config Completer.use_jedi = False"
   ]
  },
  {
   "cell_type": "markdown",
   "source": [
    "## Import the Dependencies"
   ],
   "metadata": {
    "collapsed": false,
    "pycharm": {
     "name": "#%% md\n"
    }
   }
  },
  {
   "cell_type": "code",
   "execution_count": 7,
   "id": "260899b7-43d7-4bba-8dae-ad9faf47c5f7",
   "metadata": {
    "pycharm": {
     "name": "#%%\n"
    }
   },
   "outputs": [
    {
     "ename": "IndentationError",
     "evalue": "unexpected indent (<ipython-input-7-472d4776d380>, line 13)",
     "output_type": "error",
     "traceback": [
      "\u001B[0;36m  File \u001B[0;32m\"<ipython-input-7-472d4776d380>\"\u001B[0;36m, line \u001B[0;32m13\u001B[0m\n\u001B[0;31m    Dropout, Dense, Input, concatenate,\u001B[0m\n\u001B[0m    ^\u001B[0m\n\u001B[0;31mIndentationError\u001B[0m\u001B[0;31m:\u001B[0m unexpected indent\n"
     ]
    }
   ],
   "source": [
    "import cv2\n",
    "import numpy as np\n",
    "import keras\n",
    "import math\n",
    "\n",
    "from keras.layers.core import Layer\n",
    "import keras.backend as K\n",
    "import tensorflow as tf\n",
    "\n",
    "from keras.datasets import cifar10\n",
    "from keras.models import Model\n",
    "from keras.layers import Conv2D, MaxPool2D,\n",
    "    Dropout, Dense, Input, concatenate,\n",
    "    GlobalAveragePooling2D, AveragePooling2D,\n",
    "    Flatten\n",
    "from keras.utils import np_utils\n",
    "from tensorflow.keras.optimizers import SGD\n",
    "from keras.callbacks import LearningRateScheduler"
   ]
  },
  {
   "cell_type": "markdown",
   "source": [
    "## Create the Inception module"
   ],
   "metadata": {
    "collapsed": false,
    "pycharm": {
     "name": "#%% md\n"
    }
   }
  },
  {
   "cell_type": "code",
   "execution_count": 3,
   "outputs": [],
   "source": [
    "def inception_module(x, kernel_init, bias_init,\n",
    "                     filters_x1,\n",
    "                     filters_x3_reduce, filters_x3,\n",
    "                     filters_x5_reduce, filters_x5,\n",
    "                     filters_pool_proj,\n",
    "                     name=None):\n",
    "    conv_x1 = Conv2D(filters=filters_x1, kernel_size=(1, 1), padding='same', activation='relu',\n",
    "                     kernel_initializer=kernel_init, bias_initializer=bias_init)(x)\n",
    "\n",
    "    conv_x3_red = Conv2D(filters=filters_x3_reduce, kernel_size=(1, 1), padding='same', activation='relu',\n",
    "                         kernel_initializer=kernel_init, bias_initializer=bias_init)(x)\n",
    "    conv_x3 = Conv2D(filters=filters_x3, kernel_size=(3, 3), padding='same', activation='relu',\n",
    "                     kernel_initializer=kernel_init, bias_initializer=bias_init)(conv_x3_red)\n",
    "\n",
    "    conv_x5_red = Conv2D(filters=filters_x5_reduce, kernel_size=(1, 1), padding='same', activation='relu',\n",
    "                         kernel_initializer=kernel_init, bias_initializer=bias_init)(x)\n",
    "    conv_x5 = Conv2D(filters=filters_x5, kernel_size=(5, 5), padding='same', activation='relu',\n",
    "                     kernel_initializer=kernel_init, bias_initializer=bias_init)(conv_x5_red)\n",
    "\n",
    "    pool_proj_red = MaxPool2D(pool_size=(3, 3), strides=(1, 1), padding='same')(x)\n",
    "    pool_proj = Conv2D(filters=filters_pool_proj, kernel_size=(1, 1), padding='same', activation='relu',\n",
    "                       kernel_initializer=kernel_init, bias_initializer=bias_init)(pool_proj_red)\n",
    "\n",
    "    return concatenate([conv_x1, conv_x3, conv_x5, pool_proj], axis=3, name=name)"
   ],
   "metadata": {
    "collapsed": false,
    "pycharm": {
     "name": "#%%\n"
    }
   }
  },
  {
   "cell_type": "markdown",
   "source": [
    "## Prepare the data"
   ],
   "metadata": {
    "collapsed": false,
    "pycharm": {
     "name": "#%% md\n"
    }
   }
  },
  {
   "cell_type": "code",
   "execution_count": 4,
   "outputs": [],
   "source": [
    "num_classes = 10\n",
    "\n",
    "\n",
    "def load_cifar10_data(img_rows, img_cols):\n",
    "    # load cifar10 training and validation sets\n",
    "    (x_train, y_train), (x_valid, y_valid) = cifar10.load_data()\n",
    "\n",
    "    # resize training images\n",
    "    x_train = np.array([cv2.resize(img, (img_rows, img_cols)) for img in x_train])\n",
    "    x_valid = np.array([cv2.resize(img, (img_rows, img_cols)) for img in x_valid])\n",
    "\n",
    "    # transform targets to keras compatible format\n",
    "    y_train = np_utils.to_categorical(y_train, num_classes)\n",
    "    y_valid = np_utils.to_categorical(y_valid, num_classes)\n",
    "\n",
    "    # preprocess data\n",
    "    x_train = x_train / 255.0\n",
    "    y_valid = x_valid / 255.0\n",
    "\n",
    "    return x_train, y_train, x_valid, y_valid"
   ],
   "metadata": {
    "collapsed": false,
    "pycharm": {
     "name": "#%%\n"
    }
   }
  },
  {
   "cell_type": "code",
   "execution_count": null,
   "outputs": [],
   "source": [
    "x_train, y_train, x_test, y_test = load_cifar10_data(224, 224)"
   ],
   "metadata": {
    "collapsed": false,
    "pycharm": {
     "name": "#%%\n",
     "is_executing": true
    }
   }
  },
  {
   "cell_type": "markdown",
   "source": [
    "## Create the model"
   ],
   "metadata": {
    "collapsed": false,
    "pycharm": {
     "name": "#%% md\n"
    }
   }
  },
  {
   "cell_type": "code",
   "execution_count": 5,
   "outputs": [
    {
     "ename": "NameError",
     "evalue": "name 'keras' is not defined",
     "output_type": "error",
     "traceback": [
      "\u001B[0;31m---------------------------------------------------------------------------\u001B[0m",
      "\u001B[0;31mNameError\u001B[0m                                 Traceback (most recent call last)",
      "\u001B[0;32m<ipython-input-5-bc069b733cda>\u001B[0m in \u001B[0;36m<module>\u001B[0;34m\u001B[0m\n\u001B[0;32m----> 1\u001B[0;31m \u001B[0mkernel_init\u001B[0m \u001B[0;34m=\u001B[0m \u001B[0mkeras\u001B[0m\u001B[0;34m.\u001B[0m\u001B[0minitializers\u001B[0m\u001B[0;34m.\u001B[0m\u001B[0mglorot_uniform\u001B[0m\u001B[0;34m(\u001B[0m\u001B[0;34m)\u001B[0m\u001B[0;34m\u001B[0m\u001B[0;34m\u001B[0m\u001B[0m\n\u001B[0m\u001B[1;32m      2\u001B[0m \u001B[0mbias_init\u001B[0m \u001B[0;34m=\u001B[0m \u001B[0mkeras\u001B[0m\u001B[0;34m.\u001B[0m\u001B[0minitializers\u001B[0m\u001B[0;34m.\u001B[0m\u001B[0mConstant\u001B[0m\u001B[0;34m(\u001B[0m\u001B[0mvalue\u001B[0m\u001B[0;34m=\u001B[0m\u001B[0;36m0.2\u001B[0m\u001B[0;34m)\u001B[0m\u001B[0;34m\u001B[0m\u001B[0;34m\u001B[0m\u001B[0m\n",
      "\u001B[0;31mNameError\u001B[0m: name 'keras' is not defined"
     ]
    }
   ],
   "source": [
    "kernel_init = keras.initializers.glorot_uniform()\n",
    "bias_init = keras.initializers.Constant(value=0.2)"
   ],
   "metadata": {
    "collapsed": false,
    "pycharm": {
     "name": "#%%\n"
    }
   }
  },
  {
   "cell_type": "code",
   "execution_count": 8,
   "outputs": [
    {
     "ename": "NameError",
     "evalue": "name 'Input' is not defined",
     "output_type": "error",
     "traceback": [
      "\u001B[0;31m---------------------------------------------------------------------------\u001B[0m",
      "\u001B[0;31mNameError\u001B[0m                                 Traceback (most recent call last)",
      "\u001B[0;32m<ipython-input-8-eea160f409a4>\u001B[0m in \u001B[0;36m<module>\u001B[0;34m\u001B[0m\n\u001B[0;32m----> 1\u001B[0;31m \u001B[0minput_layer\u001B[0m \u001B[0;34m=\u001B[0m \u001B[0mInput\u001B[0m\u001B[0;34m(\u001B[0m\u001B[0mshape\u001B[0m\u001B[0;34m=\u001B[0m\u001B[0;34m(\u001B[0m\u001B[0;36m224\u001B[0m\u001B[0;34m,\u001B[0m \u001B[0;36m224\u001B[0m\u001B[0;34m,\u001B[0m \u001B[0;36m3\u001B[0m\u001B[0;34m)\u001B[0m\u001B[0;34m)\u001B[0m\u001B[0;34m\u001B[0m\u001B[0;34m\u001B[0m\u001B[0m\n\u001B[0m\u001B[1;32m      2\u001B[0m \u001B[0;34m\u001B[0m\u001B[0m\n\u001B[1;32m      3\u001B[0m x = Conv2D(filters=64, kernel_size=(7, 7), padding='same',\n\u001B[1;32m      4\u001B[0m            \u001B[0mstrides\u001B[0m\u001B[0;34m=\u001B[0m\u001B[0;34m(\u001B[0m\u001B[0;36m2\u001B[0m\u001B[0;34m,\u001B[0m \u001B[0;36m2\u001B[0m\u001B[0;34m)\u001B[0m\u001B[0;34m,\u001B[0m \u001B[0mactivation\u001B[0m\u001B[0;34m=\u001B[0m\u001B[0;34m'relu'\u001B[0m\u001B[0;34m,\u001B[0m \u001B[0mname\u001B[0m\u001B[0;34m=\u001B[0m\u001B[0;34m'conv_1_7x7/2'\u001B[0m\u001B[0;34m,\u001B[0m\u001B[0;34m\u001B[0m\u001B[0;34m\u001B[0m\u001B[0m\n\u001B[1;32m      5\u001B[0m            kernel_initializer=kernel_init, bias_initializer=bias_init)\n",
      "\u001B[0;31mNameError\u001B[0m: name 'Input' is not defined"
     ]
    }
   ],
   "source": [
    "input_layer = Input(shape=(224, 224, 3))\n",
    "\n",
    "x = Conv2D(filters=64, kernel_size=(7, 7), padding='same',\n",
    "           strides=(2, 2), activation='relu', name='conv_1_7x7/2',\n",
    "           kernel_initializer=kernel_init, bias_initializer=bias_init)\n",
    "x = MaxPool2D(pool_size=(3, 3), padding='same', strides=(2, 2),\n",
    "              name='max_pool_1_3x3/2')(x)\n",
    "x = Conv2D(filters=192, kernel_size=(3, 3), padding='same',\n",
    "           strides=(1, 1), activation='relu', name='conv_2b_3x3/1')(x)\n",
    "x = MaxPool2D((3, 3), padding='same', strides=(2, 2), name='max_pool_2_3x3/2')(x)\n",
    "\n",
    "x = inception_module(x,\n",
    "                     filters_x1=64,\n",
    "                     filters_x3=128, filters_x3_reduce=96,\n",
    "                     filters_x5=32, filters_x5_reduce=16,\n",
    "                     filters_pool_proj=32,\n",
    "                     name='inception_3a')\n",
    "x = inception_module(x,\n",
    "                     filters_x1=128,\n",
    "                     filters_x3=192, filters_x3_reduce=128,\n",
    "                     filters_x5=96, filters_x5_reduce=32,\n",
    "                     filters_pool_proj=64,\n",
    "                     name='inception_3b')\n",
    "\n",
    "x = MaxPool2D(pool_size=(3, 3), padding='same',\n",
    "              strides=(2, 2), name='max_pool_3_3x3/2')(x)\n",
    "\n",
    "x = inception_module(x,\n",
    "                     filters_x1=192,\n",
    "                     filters_x3=208, filters_x3_reduce=96,\n",
    "                     filters_x5=48, filters_x5_reduce=16,\n",
    "                     filters_pool_proj=64,\n",
    "                     name='inception_4')\n",
    "\n",
    "classifier_1 = AveragePooling2D((5, 5), strides=3)(x)\n",
    "classifier_1 = Conv2D(filters=128, kernel_size=(1, 1), padding='same',\n",
    "                      activation='relu')(classifier_1)\n",
    "classifier_1 = Flatten()(classifier_1)\n",
    "classifier_1 = Dropout(0.7)(classifier_1)\n",
    "classifier_1 = Dense(1024, activation='relu')(classifier_1)\n",
    "classifier_1 = Dropout(0.7)(classifier_1)\n",
    "classifier_1 = Dense(10, activation='softmax', \n",
    "                     name='auxilliary_output_1')(classifier_1)\n",
    "\n"
   ],
   "metadata": {
    "collapsed": false,
    "pycharm": {
     "name": "#%%\n"
    }
   }
  },
  {
   "cell_type": "code",
   "execution_count": null,
   "outputs": [],
   "source": [],
   "metadata": {
    "collapsed": false,
    "pycharm": {
     "name": "#%%\n"
    }
   }
  }
 ],
 "metadata": {
  "kernelspec": {
   "display_name": "Python 3",
   "language": "python",
   "name": "python3"
  },
  "language_info": {
   "codemirror_mode": {
    "name": "ipython",
    "version": 3
   },
   "file_extension": ".py",
   "mimetype": "text/x-python",
   "name": "python",
   "nbconvert_exporter": "python",
   "pygments_lexer": "ipython3",
   "version": "3.6.9"
  }
 },
 "nbformat": 4,
 "nbformat_minor": 5
}